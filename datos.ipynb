{
 "cells": [
  {
   "cell_type": "markdown",
   "metadata": {},
   "source": [
    "## Práctica Pandas y Jupyter"
   ]
  },
  {
   "cell_type": "markdown",
   "metadata": {},
   "source": [
    "## 1. Carga y Exploración de Datos"
   ]
  },
  {
   "cell_type": "markdown",
   "metadata": {},
   "source": [
    "#### 1.1 Carga de Datos"
   ]
  },
  {
   "cell_type": "code",
   "execution_count": 177,
   "metadata": {},
   "outputs": [],
   "source": [
    "import pandas as pd\n",
    "import matplotlib.pyplot as plt #Librería para crear gráficos"
   ]
  },
  {
   "cell_type": "code",
   "execution_count": 178,
   "metadata": {},
   "outputs": [],
   "source": [
    "df = pd.read_csv('ModalidadVirtual.csv') #Leer un archivo en formato csv"
   ]
  },
  {
   "cell_type": "markdown",
   "metadata": {},
   "source": [
    "#### 1.2 Muestra las primeras 5 filas, las últimas 5 filas, y un resumen estadístico de los datos"
   ]
  },
  {
   "cell_type": "code",
   "execution_count": 179,
   "metadata": {},
   "outputs": [
    {
     "name": "stdout",
     "output_type": "stream",
     "text": [
      "   Unnamed: 0        time                 carrera acepta  \\\n",
      "0           0  2020-11-08  Ingeniería de Sistemas     Si   \n",
      "1           1  2020-11-08              Psicología     Si   \n",
      "2           2  2020-11-08  Ingeniería de Sistemas     Si   \n",
      "3           3  2020-11-08  Ingeniería de Sistemas     Si   \n",
      "4           4  2020-11-08  Ingeniería de Sistemas     Si   \n",
      "\n",
      "                        positivo  \\\n",
      "0              Horario flexible.   \n",
      "1  Acceso desde cualquier lugar.   \n",
      "2              Horario flexible.   \n",
      "3              Horario flexible.   \n",
      "4  Acceso desde cualquier lugar.   \n",
      "\n",
      "                                            negativo  edad    sexo   trabajo  \n",
      "0             Contacto Personal Docente-Estudiantil.    20  Hombre  Eventual  \n",
      "1             Contacto Personal Docente-Estudiantil.    26  Hombre  Eventual  \n",
      "2  Falta de recursos de calidad(plataformas, doce...    20   Mujer        Sí  \n",
      "3                               Conexión a internet.    18   Mujer        No  \n",
      "4             Contacto Personal Docente-Estudiantil.    39  Hombre        Sí  \n"
     ]
    }
   ],
   "source": [
    "print(df.head()) #El método head() muestra una cantidad de filas iniciales específicas y si no se específica devuelve 5"
   ]
  },
  {
   "cell_type": "code",
   "execution_count": 180,
   "metadata": {},
   "outputs": [
    {
     "name": "stdout",
     "output_type": "stream",
     "text": [
      "     Unnamed: 0        time                       carrera acepta  \\\n",
      "217         230  2020-12-10  Gestión Turística y Hotelera     Si   \n",
      "218         231  2020-12-11        Ingeniería de Sistemas     No   \n",
      "219         232  2020-12-11  Gestión Turística y Hotelera     No   \n",
      "220         233  2020-12-11         Ingeniería Agronómica     Si   \n",
      "221         234  2020-12-12        Comercio Internacional     Si   \n",
      "\n",
      "                          positivo  \\\n",
      "217              Horario flexible.   \n",
      "218  Acceso desde cualquier lugar.   \n",
      "219              Horario flexible.   \n",
      "220  Acceso desde cualquier lugar.   \n",
      "221              Horario flexible.   \n",
      "\n",
      "                                              negativo  edad    sexo trabajo  \n",
      "217                               Conexión a internet.    19   Mujer      Sí  \n",
      "218  Falta de recursos de calidad(plataformas, doce...    23   Mujer      No  \n",
      "219  Falta de recursos de calidad(plataformas, doce...    25  Hombre      Sí  \n",
      "220             Contacto Personal Docente-Estudiantil.    20   Mujer      Sí  \n",
      "221  Falta de recursos de calidad(plataformas, doce...    23  Hombre      Sí  \n"
     ]
    }
   ],
   "source": [
    "print(df.tail()) #El método tail() muestra una cantidad de filas finales específicas y si no se específica devuelve 5"
   ]
  },
  {
   "cell_type": "code",
   "execution_count": 181,
   "metadata": {},
   "outputs": [
    {
     "name": "stdout",
     "output_type": "stream",
     "text": [
      "       Unnamed: 0        edad\n",
      "count  222.000000  222.000000\n",
      "mean   119.896396   28.166667\n",
      "std     67.424522    7.556374\n",
      "min      0.000000   17.000000\n",
      "25%     63.250000   22.000000\n",
      "50%    121.500000   27.000000\n",
      "75%    177.750000   33.000000\n",
      "max    234.000000   54.000000\n"
     ]
    }
   ],
   "source": [
    "print(df.describe()) #describe() Muestra los datos estadístico de los datos"
   ]
  },
  {
   "cell_type": "markdown",
   "metadata": {},
   "source": [
    "####  1.3 Muestra la información del DataFrame (tipos de datos, columnas, etc.)."
   ]
  },
  {
   "cell_type": "code",
   "execution_count": 182,
   "metadata": {},
   "outputs": [
    {
     "name": "stdout",
     "output_type": "stream",
     "text": [
      "<class 'pandas.core.frame.DataFrame'>\n",
      "RangeIndex: 222 entries, 0 to 221\n",
      "Data columns (total 9 columns):\n",
      " #   Column      Non-Null Count  Dtype \n",
      "---  ------      --------------  ----- \n",
      " 0   Unnamed: 0  222 non-null    int64 \n",
      " 1   time        222 non-null    object\n",
      " 2   carrera     222 non-null    object\n",
      " 3   acepta      222 non-null    object\n",
      " 4   positivo    222 non-null    object\n",
      " 5   negativo    222 non-null    object\n",
      " 6   edad        222 non-null    int64 \n",
      " 7   sexo        222 non-null    object\n",
      " 8   trabajo     222 non-null    object\n",
      "dtypes: int64(2), object(7)\n",
      "memory usage: 15.7+ KB\n",
      "None\n"
     ]
    }
   ],
   "source": [
    "print(df.info()) #El método info() muestra las columnas y el tipo de dato de la columna"
   ]
  },
  {
   "cell_type": "markdown",
   "metadata": {},
   "source": [
    "#### 1.4 Valores faltantes: Identifica y cuenta los valores faltantes en cada columna."
   ]
  },
  {
   "cell_type": "code",
   "execution_count": 183,
   "metadata": {},
   "outputs": [
    {
     "name": "stdout",
     "output_type": "stream",
     "text": [
      "Unnamed: 0    0\n",
      "time          0\n",
      "carrera       0\n",
      "acepta        0\n",
      "positivo      0\n",
      "negativo      0\n",
      "edad          0\n",
      "sexo          0\n",
      "trabajo       0\n",
      "dtype: int64\n"
     ]
    }
   ],
   "source": [
    "print(df.isnull().sum()) #isnull detecta todos los valores nulos y sum() ayuda a sumar"
   ]
  },
  {
   "cell_type": "markdown",
   "metadata": {},
   "source": [
    "## 2. Limpieza de Datos"
   ]
  },
  {
   "cell_type": "markdown",
   "metadata": {},
   "source": [
    "#### 2.2 Rellena los valores faltantes con cero"
   ]
  },
  {
   "cell_type": "code",
   "execution_count": 184,
   "metadata": {},
   "outputs": [],
   "source": [
    "df = df.fillna(0) #fillna Rellena los valoes faltantes con cero"
   ]
  },
  {
   "cell_type": "markdown",
   "metadata": {},
   "source": [
    "#### 2.3 Eliminar las filas con valores nulos"
   ]
  },
  {
   "cell_type": "code",
   "execution_count": 185,
   "metadata": {},
   "outputs": [],
   "source": [
    "df = df.dropna() "
   ]
  },
  {
   "cell_type": "markdown",
   "metadata": {},
   "source": [
    "Eliminar columnas:\n",
    "**df = df.drop(columns=[columna_innecesaria])**"
   ]
  },
  {
   "cell_type": "markdown",
   "metadata": {},
   "source": [
    "## 3. Filtrado y Selección de Datos"
   ]
  },
  {
   "cell_type": "markdown",
   "metadata": {},
   "source": [
    "#### 3.1 Filtra las filas que cumplan con múltiples condiciones."
   ]
  },
  {
   "cell_type": "code",
   "execution_count": 186,
   "metadata": {},
   "outputs": [],
   "source": [
    "# df = df[df['Modalidad'] == 'Virtual'] #Muestra los datos de columna Modalidad que son Virtual\n",
    "df = df[(df['edad'] > 20) & (df['edad'] < 30)]"
   ]
  },
  {
   "cell_type": "markdown",
   "metadata": {},
   "source": [
    "#### 3.2 Seleccionar columnas: Selecciona solo ciertas columnas para un nuevo DataFrame."
   ]
  },
  {
   "cell_type": "code",
   "execution_count": 187,
   "metadata": {},
   "outputs": [
    {
     "name": "stdout",
     "output_type": "stream",
     "text": [
      "     edad    sexo\n",
      "1      26  Hombre\n",
      "5      25   Mujer\n",
      "9      25  Hombre\n",
      "11     21  Hombre\n",
      "12     25  Hombre\n",
      "..    ...     ...\n",
      "213    26  Hombre\n",
      "215    21   Mujer\n",
      "218    23   Mujer\n",
      "219    25  Hombre\n",
      "221    23  Hombre\n",
      "\n",
      "[86 rows x 2 columns]\n"
     ]
    }
   ],
   "source": [
    "df = df[['edad', 'sexo']]\n",
    "print(df)"
   ]
  },
  {
   "cell_type": "markdown",
   "metadata": {},
   "source": [
    "## 4. Agregación y Agrupación"
   ]
  },
  {
   "cell_type": "markdown",
   "metadata": {},
   "source": [
    "#### 4.1 Agregación: Calcula la suma, media de una columna"
   ]
  },
  {
   "cell_type": "code",
   "execution_count": 188,
   "metadata": {},
   "outputs": [
    {
     "name": "stdout",
     "output_type": "stream",
     "text": [
      "Total de datos: 86\n",
      "Suma: 2107\n",
      "Promedio: 24.5\n",
      "Desviación: 2.4530892887996414\n"
     ]
    }
   ],
   "source": [
    "print(f\"Total de datos: {df['edad'].count()}\")\n",
    "print(f\"Suma: {df['edad'].sum()}\")\n",
    "print(f\"Promedio: {df['edad'].mean()}\")\n",
    "print(f\"Desviación: {df['edad'].std()}\")"
   ]
  },
  {
   "cell_type": "markdown",
   "metadata": {},
   "source": [
    "#### 4.2 Agrupación: Agrupa los datos por una columna y calcula la media de otra columna para cada grupo."
   ]
  },
  {
   "cell_type": "code",
   "execution_count": 189,
   "metadata": {},
   "outputs": [
    {
     "name": "stdout",
     "output_type": "stream",
     "text": [
      "             edad\n",
      "sexo             \n",
      "Hombre  24.437500\n",
      "Mujer   24.578947\n"
     ]
    }
   ],
   "source": [
    "print(df.groupby('sexo').mean())"
   ]
  },
  {
   "cell_type": "markdown",
   "metadata": {},
   "source": [
    "#### 4.3 Pivot Table: Crea una tabla pivote para resumir los datos."
   ]
  },
  {
   "cell_type": "code",
   "execution_count": 190,
   "metadata": {},
   "outputs": [
    {
     "name": "stdout",
     "output_type": "stream",
     "text": [
      "        edad\n",
      "sexo        \n",
      "Hombre  1173\n",
      "Mujer    934\n"
     ]
    }
   ],
   "source": [
    "print(pd.pivot_table(df, index='sexo', values='edad', aggfunc='sum'))\n",
    "#print(pd.pivot_table(df, columns='sexo', values='edad', aggfunc='sum'))"
   ]
  },
  {
   "cell_type": "markdown",
   "metadata": {},
   "source": [
    "## 5. Manipulación de Datos\n"
   ]
  },
  {
   "cell_type": "markdown",
   "metadata": {},
   "source": [
    "####  5.1 Ordena el DataFrame por una columna específica."
   ]
  },
  {
   "cell_type": "markdown",
   "metadata": {},
   "source": [
    "Por edad:"
   ]
  },
  {
   "cell_type": "code",
   "execution_count": 191,
   "metadata": {},
   "outputs": [
    {
     "name": "stdout",
     "output_type": "stream",
     "text": [
      "     edad    sexo\n",
      "11     21  Hombre\n",
      "42     21  Hombre\n",
      "58     21  Hombre\n",
      "47     21  Hombre\n",
      "71     21  Hombre\n",
      "..    ...     ...\n",
      "94     29   Mujer\n",
      "95     29  Hombre\n",
      "26     29  Hombre\n",
      "39     29  Hombre\n",
      "205    29  Hombre\n",
      "\n",
      "[86 rows x 2 columns]\n"
     ]
    }
   ],
   "source": [
    "print(df.sort_values(by='edad'))"
   ]
  },
  {
   "cell_type": "markdown",
   "metadata": {},
   "source": [
    "## 6. Análisis de Datos"
   ]
  },
  {
   "cell_type": "markdown",
   "metadata": {},
   "source": [
    "#### Gráfica Circular"
   ]
  },
  {
   "cell_type": "code",
   "execution_count": 192,
   "metadata": {},
   "outputs": [],
   "source": [
    "mujeres = (df['sexo'] == 'Mujer').sum()\n",
    "hombres = (df['sexo'] == 'Hombre').sum()"
   ]
  },
  {
   "cell_type": "code",
   "execution_count": 193,
   "metadata": {},
   "outputs": [
    {
     "data": {
      "image/png": "[encoded data removed]",
      "text/plain": [
       "<Figure size 640x480 with 1 Axes>"
      ]
     },
     "metadata": {},
     "output_type": "display_data"
    }
   ],
   "source": [
    "#Datos para el gráfico circular\n",
    "#Obtención de Datos\n",
    "labels = [f'Mujeres ({mujeres})', f'Hombres ({hombres})']\n",
    "sizes = [mujeres, hombres]\n",
    "colors = ['#ff99cc', '#66b3ff']\n",
    "\n",
    "#Crear el gráfico\n",
    "plt.pie(sizes, labels=labels, colors=colors, autopct='%1.1f%%', startangle=90)\n",
    "\n",
    "#Título\n",
    "plt.title('Distribución de Hombres y Mujeres')\n",
    "\n",
    "#Mostrar la gráfica circular\n",
    "plt.show()"
   ]
  },
  {
   "cell_type": "markdown",
   "metadata": {},
   "source": [
    "Promedio de Edades por sexo"
   ]
  },
  {
   "cell_type": "code",
   "execution_count": 194,
   "metadata": {},
   "outputs": [],
   "source": [
    "promedio_edad_mujer = df.query(\"sexo == 'Mujer'\")['edad'].mean()\n",
    "promedio_edad_hombre = df.query(\"sexo == 'Hombre'\")['edad'].mean()"
   ]
  },
  {
   "cell_type": "code",
   "execution_count": 195,
   "metadata": {},
   "outputs": [
    {
     "data": {
      "image/png": "[encoded data removed]",
      "text/plain": [
       "<Figure size 640x480 with 1 Axes>"
      ]
     },
     "metadata": {},
     "output_type": "display_data"
    }
   ],
   "source": [
    "# Datos para la gráfica de barras\n",
    "etiquetas = ['Mujeres', 'Hombres']\n",
    "promedios = [promedio_edad_mujer, promedio_edad_hombre]\n",
    "\n",
    "# Crear la gráfica de barras\n",
    "plt.bar(etiquetas, promedios, color=['#ff99cc', '#66b3ff'])\n",
    "\n",
    "# Añadir título y etiquetas\n",
    "plt.title('Promedio de Edad por Sexo')\n",
    "plt.xlabel('Sexo')\n",
    "plt.ylabel('Promedio de Edad')\n",
    "\n",
    "# Mostrar la gráfica\n",
    "plt.show()"
   ]
  },
  {
   "cell_type": "markdown",
   "metadata": {},
   "source": [
    "Edades por rangos"
   ]
  },
  {
   "cell_type": "code",
   "execution_count": 196,
   "metadata": {},
   "outputs": [
    {
     "data": {
      "image/png": "[encoded data removed]",
      "text/plain": [
       "<Figure size 640x480 with 1 Axes>"
      ]
     },
     "metadata": {},
     "output_type": "display_data"
    }
   ],
   "source": [
    "edad21_a_24 = df[(df['edad'] > 20) & (df['edad'] < 25)]['edad'].count()\n",
    "edad25_28 = df[(df['edad'] > 24) & (df['edad'] < 29)]['edad'].count()\n",
    "edad29_32 = df[(df['edad'] > 28) & (df['edad'] < 33)]['edad'].count()\n",
    "\n",
    "# Datos para la gráfica\n",
    "etiquetasRangos = [f'21-24 años \\n\\n{edad21_a_24} personas', f'25-28 años \\n\\n{edad25_28} personas', f'29-32 años \\n\\n{edad29_32} personas']\n",
    "rangos = [edad21_a_24, edad25_28, edad29_32]\n",
    "\n",
    "# Crear la gráfica de barras y asignar a la variable 'bars'\n",
    "plt.bar(etiquetasRangos, rangos, color=['#ff5733', '#f3e80c', '#6acf0a'])\n",
    "\n",
    "# Añadir título y etiquetas\n",
    "plt.title('Cantidad de Personas por Rango de Edad')\n",
    "plt.xlabel('\\nRango de Edad')\n",
    "plt.ylabel('Cantidad de Personas')\n",
    "\n",
    "# Mostrar la gráfica    \n",
    "plt.show()"
   ]
  },
  {
   "cell_type": "markdown",
   "metadata": {},
   "source": [
    "## 7. Guardar Resultados"
   ]
  },
  {
   "cell_type": "code",
   "execution_count": 197,
   "metadata": {},
   "outputs": [],
   "source": [
    "#df.to_csv('ModalidadVirtualNuevo.csv', index=False, encoding='utf-8')\n",
    "df.sort_values('edad').to_csv('ModalidadVirtualNuevo.csv', index=False)"
   ]
  }
 ],
 "metadata": {
  "kernelspec": {
   "display_name": "Python 3",
   "language": "python",
   "name": "python3"
  },
  "language_info": {
   "codemirror_mode": {
    "name": "ipython",
    "version": 3
   },
   "file_extension": ".py",
   "mimetype": "text/x-python",
   "name": "python",
   "nbconvert_exporter": "python",
   "pygments_lexer": "ipython3",
   "version": "3.11.9"
  }
 },
 "nbformat": 4,
 "nbformat_minor": 2
}
