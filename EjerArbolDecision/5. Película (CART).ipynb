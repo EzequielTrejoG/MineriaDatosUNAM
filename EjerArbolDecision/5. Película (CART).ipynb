{
 "cells": [
  {
   "cell_type": "markdown",
   "id": "7cbf683e",
   "metadata": {},
   "source": [
    "#### Jueves 8 de mayo de 2025"
   ]
  },
  {
   "cell_type": "markdown",
   "id": "07a7b6b8",
   "metadata": {},
   "source": [
    "## Árbol de Decisión CART. ¿Me gustará la película?"
   ]
  },
  {
   "cell_type": "code",
   "execution_count": 45,
   "id": "30c93bd5",
   "metadata": {},
   "outputs": [],
   "source": [
    "import pandas as pd\n",
    "from sklearn.tree import DecisionTreeClassifier, plot_tree\n",
    "from sklearn.model_selection import train_test_split\n",
    "from sklearn.preprocessing import LabelEncoder\n",
    "import matplotlib.pyplot as plt"
   ]
  },
  {
   "cell_type": "code",
   "execution_count": 46,
   "id": "98b6bf59",
   "metadata": {},
   "outputs": [
    {
     "name": "stdout",
     "output_type": "stream",
     "text": [
      "Dataset original: \n"
     ]
    },
    {
     "data": {
      "text/html": [
       "<div>\n",
       "<style scoped>\n",
       "    .dataframe tbody tr th:only-of-type {\n",
       "        vertical-align: middle;\n",
       "    }\n",
       "\n",
       "    .dataframe tbody tr th {\n",
       "        vertical-align: top;\n",
       "    }\n",
       "\n",
       "    .dataframe thead th {\n",
       "        text-align: right;\n",
       "    }\n",
       "</style>\n",
       "<table border=\"1\" class=\"dataframe\">\n",
       "  <thead>\n",
       "    <tr style=\"text-align: right;\">\n",
       "      <th></th>\n",
       "      <th>Película</th>\n",
       "      <th>Género</th>\n",
       "      <th>DirectorFamoso</th>\n",
       "      <th>Duracion&gt;2h</th>\n",
       "      <th>MeGustó</th>\n",
       "    </tr>\n",
       "  </thead>\n",
       "  <tbody>\n",
       "    <tr>\n",
       "      <th>0</th>\n",
       "      <td>Inception</td>\n",
       "      <td>Ciencia</td>\n",
       "      <td>Sí</td>\n",
       "      <td>Sí</td>\n",
       "      <td>Sí</td>\n",
       "    </tr>\n",
       "    <tr>\n",
       "      <th>1</th>\n",
       "      <td>Titanic</td>\n",
       "      <td>Romance</td>\n",
       "      <td>Sí</td>\n",
       "      <td>Sí</td>\n",
       "      <td>No</td>\n",
       "    </tr>\n",
       "    <tr>\n",
       "      <th>2</th>\n",
       "      <td>Shrek</td>\n",
       "      <td>Animación</td>\n",
       "      <td>No</td>\n",
       "      <td>No</td>\n",
       "      <td>Sí</td>\n",
       "    </tr>\n",
       "  </tbody>\n",
       "</table>\n",
       "</div>"
      ],
      "text/plain": [
       "    Película     Género DirectorFamoso Duracion>2h MeGustó\n",
       "0  Inception    Ciencia             Sí          Sí      Sí\n",
       "1    Titanic    Romance             Sí          Sí      No\n",
       "2      Shrek  Animación             No          No      Sí"
      ]
     },
     "execution_count": 46,
     "metadata": {},
     "output_type": "execute_result"
    }
   ],
   "source": [
    "#Dataset\n",
    "data = {\n",
    "    'Película': ['Inception', 'Titanic', 'Shrek'],\n",
    "    'Género': ['Ciencia', 'Romance', 'Animación'],\n",
    "    'DirectorFamoso': ['Sí', 'Sí', 'No'],\n",
    "    'Duracion>2h': ['Sí', 'Sí', 'No'],\n",
    "    'MeGustó': ['Sí', 'No', 'Sí']\n",
    "}\n",
    "\n",
    "df = pd.DataFrame(data)\n",
    "print(\"Dataset original: \")\n",
    "print(df)"
   ]
  },
  {
   "cell_type": "code",
   "execution_count": 47,
   "id": "25dee34c",
   "metadata": {},
   "outputs": [
    {
     "name": "stdout",
     "output_type": "stream",
     "text": [
      "\n",
      "Dataset codificado:\n"
     ]
    },
    {
     "data": {
      "text/html": [
       "<div>\n",
       "<style scoped>\n",
       "    .dataframe tbody tr th:only-of-type {\n",
       "        vertical-align: middle;\n",
       "    }\n",
       "\n",
       "    .dataframe tbody tr th {\n",
       "        vertical-align: top;\n",
       "    }\n",
       "\n",
       "    .dataframe thead th {\n",
       "        text-align: right;\n",
       "    }\n",
       "</style>\n",
       "<table border=\"1\" class=\"dataframe\">\n",
       "  <thead>\n",
       "    <tr style=\"text-align: right;\">\n",
       "      <th></th>\n",
       "      <th>Película</th>\n",
       "      <th>Género</th>\n",
       "      <th>DirectorFamoso</th>\n",
       "      <th>Duracion&gt;2h</th>\n",
       "      <th>MeGustó</th>\n",
       "    </tr>\n",
       "  </thead>\n",
       "  <tbody>\n",
       "    <tr>\n",
       "      <th>0</th>\n",
       "      <td>0</td>\n",
       "      <td>1</td>\n",
       "      <td>1</td>\n",
       "      <td>1</td>\n",
       "      <td>1</td>\n",
       "    </tr>\n",
       "    <tr>\n",
       "      <th>1</th>\n",
       "      <td>2</td>\n",
       "      <td>2</td>\n",
       "      <td>1</td>\n",
       "      <td>1</td>\n",
       "      <td>0</td>\n",
       "    </tr>\n",
       "    <tr>\n",
       "      <th>2</th>\n",
       "      <td>1</td>\n",
       "      <td>0</td>\n",
       "      <td>0</td>\n",
       "      <td>0</td>\n",
       "      <td>1</td>\n",
       "    </tr>\n",
       "  </tbody>\n",
       "</table>\n",
       "</div>"
      ],
      "text/plain": [
       "   Película  Género  DirectorFamoso  Duracion>2h  MeGustó\n",
       "0         0       1               1            1        1\n",
       "1         2       2               1            1        0\n",
       "2         1       0               0            0        1"
      ]
     },
     "execution_count": 47,
     "metadata": {},
     "output_type": "execute_result"
    }
   ],
   "source": [
    "# Cambiar datos categóricos a numéricos\n",
    "label_encoders =  {}\n",
    "df_encoded = df.copy()\n",
    "\n",
    "for column in df.columns:\n",
    "    le = LabelEncoder()\n",
    "    df_encoded[column] = le.fit_transform(df[column])\n",
    "    label_encoders[column] = le\n",
    "print(\"\\nDataset codificado:\")\n",
    "print(df_encoded)"
   ]
  },
  {
   "cell_type": "code",
   "execution_count": 48,
   "id": "7f68cf68",
   "metadata": {},
   "outputs": [
    {
     "name": "stdout",
     "output_type": "stream",
     "text": [
      "\n",
      "Datos de entrenamiento: \n",
      "\n",
      "   Género  DirectorFamoso  Duracion>2h\n",
      "2       0               0            0\n",
      "\n",
      "Datos de prueba: \n",
      "\n",
      "   Género  DirectorFamoso  Duracion>2h\n",
      "0       1               1            1\n",
      "1       2               1            1\n"
     ]
    }
   ],
   "source": [
    "#Dividir datos de entrenamiento y prueba\n",
    "X = df_encoded.drop(['Película', 'MeGustó'], axis=1)\n",
    "y = df_encoded['MeGustó']\n",
    "\n",
    "X_train, X_test, y_train, y_test = train_test_split(X, y, test_size=0.4, random_state=42)\n",
    "\n",
    "print(\"\\nDatos de entrenamiento: \\n\")\n",
    "print(X_train)\n",
    "print(\"\\nDatos de prueba: \\n\")\n",
    "print(X_test)"
   ]
  },
  {
   "cell_type": "code",
   "execution_count": 49,
   "id": "fddbc368",
   "metadata": {},
   "outputs": [
    {
     "name": "stdout",
     "output_type": "stream",
     "text": [
      "Profundidad real del árbol: 1\n",
      "Número de hojas: 2\n"
     ]
    }
   ],
   "source": [
    "# Creación y Entrenamiento del modelo\n",
    "modelo = DecisionTreeClassifier(\n",
    "    criterion = 'gini',\n",
    "    random_state = 42\n",
    ")\n",
    "modelo.fit(X, y)\n",
    "\n",
    "print(\"Profundidad real del árbol:\", modelo.get_depth())\n",
    "print(\"Número de hojas:\", modelo.get_n_leaves())\n"
   ]
  },
  {
   "cell_type": "code",
   "execution_count": 50,
   "id": "fbcc7c3c",
   "metadata": {},
   "outputs": [
    {
     "data": {
      "image/png": "[encoded data removed]",
      "text/plain": [
       "<Figure size 1400x400 with 1 Axes>"
      ]
     },
     "metadata": {},
     "output_type": "display_data"
    }
   ],
   "source": [
    "plt.figure(figsize=(14, 4))\n",
    "plot_tree(\n",
    "    modelo, \n",
    "    feature_names = X.columns,\n",
    "    class_names=['No', 'Sí'], \n",
    "    filled=True,\n",
    "    rounded=True,\n",
    "    impurity=True\n",
    ")\n",
    "plt.title(\"Árbol de Decisión - ¿Me gustará la película?\")\n",
    "plt.show()"
   ]
  },
  {
   "cell_type": "code",
   "execution_count": 51,
   "id": "f6f99a9e",
   "metadata": {},
   "outputs": [
    {
     "name": "stdout",
     "output_type": "stream",
     "text": [
      "PREDICCIÓN - ¿ME GUSTARÁ LA PELÍCULA? \n",
      "\n",
      "Datos de predicción: \n",
      "\n",
      "Género: 0\n",
      "DirectorFamoso: 0\n",
      "Duracion>2h: 0\n",
      "\n",
      "Predicción para el nuevo dato:\n",
      "Me gustará la película\n"
     ]
    }
   ],
   "source": [
    "# Hacer predicciones\n",
    "\n",
    "#Género: 0=Animación 1=Ciencia 2: Romance\n",
    "#DirectorFamoso: 1:Sí 0:No\n",
    "#Duracion>2h: 1:Sí 0:No\n",
    "\n",
    "print(\"PREDICCIÓN - ¿ME GUSTARÁ LA PELÍCULA? \\n\")\n",
    "\n",
    "# Ejemplo de predicción para Shrek\n",
    "nuevos_datos = {\n",
    "    'Género': 0,\n",
    "    'DirectorFamoso': 0,\n",
    "    'Duracion>2h': 0\n",
    "}\n",
    "\n",
    "nuevo_df = pd.DataFrame([nuevos_datos])\n",
    "print(\"Datos de predicción: \\n\")\n",
    "for atributo, valor in nuevos_datos.items():\n",
    "    print(f\"{atributo}: {valor}\")\n",
    "\n",
    "prediccion = modelo.predict(nuevo_df)\n",
    "\n",
    "print(\"\\nPredicción para el nuevo dato:\")\n",
    "if prediccion[0] == 1:\n",
    "    print(\"Me gustará la película\")\n",
    "else:\n",
    "    print(\"No me gustará la película\")"
   ]
  },
  {
   "cell_type": "code",
   "execution_count": 53,
   "id": "d4a784ea",
   "metadata": {},
   "outputs": [
    {
     "name": "stdout",
     "output_type": "stream",
     "text": [
      "\n",
      "Importancia de cada atributo\n",
      "\n",
      "Género -> 1.0\n",
      "DirectorFamoso -> 0.0\n",
      "Duracion>2h -> 0.0\n"
     ]
    }
   ],
   "source": [
    "# Importancia de cada atributo\n",
    "\n",
    "# feature_importances_: muestra la importancia de cada característica en el modelo. \n",
    "# Cuanto mayor sea el valor, más relevante es esa característica para las decisiones del árbol de decisión.\n",
    "\n",
    "importancias = modelo.feature_importances_ \n",
    "\n",
    "print(\"\\nImportancia de cada atributo\\n\")\n",
    "for atributo, importancia in zip(X.columns, importancias):\n",
    "    print(f\"{atributo} -> {importancia}\")"
   ]
  },
  {
   "cell_type": "markdown",
   "id": "15bfcf97",
   "metadata": {},
   "source": [
    "#### ¿Qué atributo tiene mayor importancia? ¿Cómo se divide el nodo para \"Género = Animación\"?"
   ]
  },
  {
   "cell_type": "code",
   "execution_count": 52,
   "id": "78e5e643",
   "metadata": {},
   "outputs": [],
   "source": [
    "# El atributo con mayor importancia es Género\n",
    "\n",
    "# Cuando el árbol llega al nodo \"Género = Animación\", ve que solo hay una película, Shrek*, y como te gustó,\n",
    "# el nodo se convierte en una hoja con esa respuesta. No necesita hacer más divisiones \n",
    "# porque ya está claro que la respuesta es \"Sí\"."
   ]
  }
 ],
 "metadata": {
  "kernelspec": {
   "display_name": "Python 3",
   "language": "python",
   "name": "python3"
  },
  "language_info": {
   "codemirror_mode": {
    "name": "ipython",
    "version": 3
   },
   "file_extension": ".py",
   "mimetype": "text/x-python",
   "name": "python",
   "nbconvert_exporter": "python",
   "pygments_lexer": "ipython3",
   "version": "3.11.9"
  }
 },
 "nbformat": 4,
 "nbformat_minor": 5
}
