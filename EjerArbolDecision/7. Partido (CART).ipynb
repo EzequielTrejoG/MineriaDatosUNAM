{
 "cells": [
  {
   "cell_type": "markdown",
   "id": "7cbf683e",
   "metadata": {},
   "source": [
    "#### Jueves 8 de mayo de 2025"
   ]
  },
  {
   "cell_type": "markdown",
   "id": "07a7b6b8",
   "metadata": {},
   "source": [
    "## Árbol de Decisión CART. ¿Ganará el partido?"
   ]
  },
  {
   "cell_type": "code",
   "execution_count": 2,
   "id": "30c93bd5",
   "metadata": {},
   "outputs": [],
   "source": [
    "import pandas as pd\n",
    "from sklearn.tree import DecisionTreeClassifier, plot_tree\n",
    "from sklearn.model_selection import train_test_split\n",
    "from sklearn.preprocessing import LabelEncoder\n",
    "import matplotlib.pyplot as plt"
   ]
  },
  {
   "cell_type": "code",
   "execution_count": 3,
   "id": "98b6bf59",
   "metadata": {},
   "outputs": [
    {
     "name": "stdout",
     "output_type": "stream",
     "text": [
      "Dataset original: \n"
     ]
    },
    {
     "data": {
      "text/html": [
       "<div>\n",
       "<style scoped>\n",
       "    .dataframe tbody tr th:only-of-type {\n",
       "        vertical-align: middle;\n",
       "    }\n",
       "\n",
       "    .dataframe tbody tr th {\n",
       "        vertical-align: top;\n",
       "    }\n",
       "\n",
       "    .dataframe thead th {\n",
       "        text-align: right;\n",
       "    }\n",
       "</style>\n",
       "<table border=\"1\" class=\"dataframe\">\n",
       "  <thead>\n",
       "    <tr style=\"text-align: right;\">\n",
       "      <th></th>\n",
       "      <th>Partido</th>\n",
       "      <th>Local</th>\n",
       "      <th>RivalFuerte</th>\n",
       "      <th>JugadorEstrella</th>\n",
       "      <th>Ganó</th>\n",
       "    </tr>\n",
       "  </thead>\n",
       "  <tbody>\n",
       "    <tr>\n",
       "      <th>0</th>\n",
       "      <td>1</td>\n",
       "      <td>Sí</td>\n",
       "      <td>No</td>\n",
       "      <td>Sí</td>\n",
       "      <td>Sí</td>\n",
       "    </tr>\n",
       "    <tr>\n",
       "      <th>1</th>\n",
       "      <td>2</td>\n",
       "      <td>No</td>\n",
       "      <td>Sí</td>\n",
       "      <td>No</td>\n",
       "      <td>No</td>\n",
       "    </tr>\n",
       "    <tr>\n",
       "      <th>2</th>\n",
       "      <td>3</td>\n",
       "      <td>Sí</td>\n",
       "      <td>Sí</td>\n",
       "      <td>Sí</td>\n",
       "      <td>Sí</td>\n",
       "    </tr>\n",
       "  </tbody>\n",
       "</table>\n",
       "</div>"
      ],
      "text/plain": [
       "   Partido Local RivalFuerte JugadorEstrella Ganó\n",
       "0        1    Sí          No              Sí   Sí\n",
       "1        2    No          Sí              No   No\n",
       "2        3    Sí          Sí              Sí   Sí"
      ]
     },
     "execution_count": 3,
     "metadata": {},
     "output_type": "execute_result"
    }
   ],
   "source": [
    "#Dataset\n",
    "data = {\n",
    "    'Partido': [1, 2, 3],\n",
    "    'Local': ['Sí', 'No', 'Sí'],\n",
    "    'RivalFuerte': ['No', 'Sí', 'Sí'],\n",
    "    'JugadorEstrella': ['Sí', 'No', 'Sí'],\n",
    "    'Ganó': ['Sí', 'No', 'Sí']\n",
    "}\n",
    "\n",
    "df = pd.DataFrame(data)\n",
    "print(\"Dataset original: \")\n",
    "print(df)"
   ]
  },
  {
   "cell_type": "code",
   "execution_count": 4,
   "id": "25dee34c",
   "metadata": {},
   "outputs": [
    {
     "name": "stdout",
     "output_type": "stream",
     "text": [
      "\n",
      "Dataset codificado:\n"
     ]
    },
    {
     "data": {
      "text/html": [
       "<div>\n",
       "<style scoped>\n",
       "    .dataframe tbody tr th:only-of-type {\n",
       "        vertical-align: middle;\n",
       "    }\n",
       "\n",
       "    .dataframe tbody tr th {\n",
       "        vertical-align: top;\n",
       "    }\n",
       "\n",
       "    .dataframe thead th {\n",
       "        text-align: right;\n",
       "    }\n",
       "</style>\n",
       "<table border=\"1\" class=\"dataframe\">\n",
       "  <thead>\n",
       "    <tr style=\"text-align: right;\">\n",
       "      <th></th>\n",
       "      <th>Partido</th>\n",
       "      <th>Local</th>\n",
       "      <th>RivalFuerte</th>\n",
       "      <th>JugadorEstrella</th>\n",
       "      <th>Ganó</th>\n",
       "    </tr>\n",
       "  </thead>\n",
       "  <tbody>\n",
       "    <tr>\n",
       "      <th>0</th>\n",
       "      <td>0</td>\n",
       "      <td>1</td>\n",
       "      <td>0</td>\n",
       "      <td>1</td>\n",
       "      <td>1</td>\n",
       "    </tr>\n",
       "    <tr>\n",
       "      <th>1</th>\n",
       "      <td>1</td>\n",
       "      <td>0</td>\n",
       "      <td>1</td>\n",
       "      <td>0</td>\n",
       "      <td>0</td>\n",
       "    </tr>\n",
       "    <tr>\n",
       "      <th>2</th>\n",
       "      <td>2</td>\n",
       "      <td>1</td>\n",
       "      <td>1</td>\n",
       "      <td>1</td>\n",
       "      <td>1</td>\n",
       "    </tr>\n",
       "  </tbody>\n",
       "</table>\n",
       "</div>"
      ],
      "text/plain": [
       "   Partido  Local  RivalFuerte  JugadorEstrella  Ganó\n",
       "0        0      1            0                1     1\n",
       "1        1      0            1                0     0\n",
       "2        2      1            1                1     1"
      ]
     },
     "execution_count": 4,
     "metadata": {},
     "output_type": "execute_result"
    }
   ],
   "source": [
    "# Cambiar datos categóricos a numéricos\n",
    "label_encoders =  {}\n",
    "df_encoded = df.copy()\n",
    "\n",
    "for column in df.columns:\n",
    "    le = LabelEncoder()\n",
    "    df_encoded[column] = le.fit_transform(df[column])\n",
    "    label_encoders[column] = le\n",
    "print(\"\\nDataset codificado:\")\n",
    "df_encoded"
   ]
  },
  {
   "cell_type": "code",
   "execution_count": 6,
   "id": "7f68cf68",
   "metadata": {},
   "outputs": [
    {
     "name": "stdout",
     "output_type": "stream",
     "text": [
      "\n",
      "Datos de entrenamiento: \n",
      "\n",
      "   Local  RivalFuerte  JugadorEstrella\n",
      "2      1            1                1\n",
      "\n",
      "Datos de prueba: \n",
      "\n",
      "   Local  RivalFuerte  JugadorEstrella\n",
      "0      1            0                1\n",
      "1      0            1                0\n"
     ]
    }
   ],
   "source": [
    "#Dividir datos de entrenamiento y prueba\n",
    "X = df_encoded.drop(['Partido', 'Ganó'], axis=1)\n",
    "y = df_encoded['Ganó']\n",
    "\n",
    "X_train, X_test, y_train, y_test = train_test_split(X, y, test_size=0.4, random_state=42)\n",
    "\n",
    "print(\"\\nDatos de entrenamiento: \\n\")\n",
    "print(X_train)\n",
    "print(\"\\nDatos de prueba: \\n\")\n",
    "print(X_test)"
   ]
  },
  {
   "cell_type": "code",
   "execution_count": 7,
   "id": "fddbc368",
   "metadata": {},
   "outputs": [
    {
     "name": "stdout",
     "output_type": "stream",
     "text": [
      "Profundidad real del árbol: 1\n",
      "Número de hojas: 2\n"
     ]
    }
   ],
   "source": [
    "# Creación y Entrenamiento del modelo\n",
    "modelo = DecisionTreeClassifier(\n",
    "    criterion = 'gini',\n",
    "    random_state = 42\n",
    ")\n",
    "modelo.fit(X, y)\n",
    "\n",
    "print(\"Profundidad real del árbol:\", modelo.get_depth())\n",
    "print(\"Número de hojas:\", modelo.get_n_leaves())\n"
   ]
  },
  {
   "cell_type": "code",
   "execution_count": 8,
   "id": "fbcc7c3c",
   "metadata": {},
   "outputs": [
    {
     "data": {
      "image/png": "[encoded data removed]",
      "text/plain": [
       "<Figure size 1400x400 with 1 Axes>"
      ]
     },
     "metadata": {},
     "output_type": "display_data"
    }
   ],
   "source": [
    "plt.figure(figsize=(14, 4))\n",
    "plot_tree(\n",
    "    modelo, \n",
    "    feature_names = X.columns,\n",
    "    class_names=['No', 'Sí'], \n",
    "    filled=True,\n",
    "    rounded=True,\n",
    "    impurity=True\n",
    ")\n",
    "plt.title(\"Árbol de Decisión - ¿Ganará el partido?\")\n",
    "plt.show()"
   ]
  },
  {
   "cell_type": "code",
   "execution_count": 23,
   "id": "f6f99a9e",
   "metadata": {},
   "outputs": [
    {
     "name": "stdout",
     "output_type": "stream",
     "text": [
      "PREDICCIÓN - ¿GANARÁ EL PARTIDO? \n",
      "\n",
      "Datos de predicción: \n",
      "\n",
      "Local: 1\n",
      "RivalFuerte: 0\n",
      "JugadorEstrella: 1\n",
      "\n",
      "Predicción para el nuevo dato:\n",
      "El equipo ganará el partido\n"
     ]
    }
   ],
   "source": [
    "# Hacer predicciones\n",
    "\n",
    "# Local: 1=Sí 0=No\n",
    "# RivalFuerte: 1=Sí 0=No\n",
    "# JugadorEstrella: 1=Sí 0=No\n",
    "\n",
    "print(\"PREDICCIÓN - ¿GANARÁ EL PARTIDO? \\n\")\n",
    "\n",
    "# Ejemplo de predicción para Shrek\n",
    "nuevos_datos = {\n",
    "    'Local': 1,\n",
    "    'RivalFuerte': 0,\n",
    "    'JugadorEstrella': 1\n",
    "}\n",
    "\n",
    "nuevo_df = pd.DataFrame([nuevos_datos])\n",
    "print(\"Datos de predicción: \\n\")\n",
    "for atributo, valor in nuevos_datos.items():\n",
    "    print(f\"{atributo}: {valor}\")\n",
    "\n",
    "prediccion = modelo.predict(nuevo_df)\n",
    "\n",
    "print(\"\\nPredicción para el nuevo dato:\")\n",
    "if prediccion[0] == 1:\n",
    "    print(\"El equipo ganará el partido\")\n",
    "else:\n",
    "    print(\"El equipo no ganará el partido\")"
   ]
  },
  {
   "cell_type": "code",
   "execution_count": 12,
   "id": "d4a784ea",
   "metadata": {},
   "outputs": [
    {
     "name": "stdout",
     "output_type": "stream",
     "text": [
      "\n",
      "Importancia de cada atributo\n",
      "\n",
      "Local -> 0.0\n",
      "RivalFuerte -> 0.0\n",
      "JugadorEstrella -> 1.0\n"
     ]
    }
   ],
   "source": [
    "# Importancia de cada atributo\n",
    "\n",
    "# feature_importances_: muestra la importancia de cada característica en el modelo. \n",
    "# Cuanto mayor sea el valor, más relevante es esa característica para las decisiones del árbol de decisión.\n",
    "\n",
    "importancias = modelo.feature_importances_ \n",
    "\n",
    "print(\"\\nImportancia de cada atributo\\n\")\n",
    "for atributo, importancia in zip(X.columns, importancias):\n",
    "    print(f\"{atributo} -> {importancia}\")"
   ]
  },
  {
   "cell_type": "markdown",
   "id": "15bfcf97",
   "metadata": {},
   "source": [
    "#### ¿Cuál es el Gini para \"Local = Sí\"? , Si \"RivalFuerte = Sí\", ¿qué predice el árbol?"
   ]
  },
  {
   "cell_type": "code",
   "execution_count": 24,
   "id": "78e5e643",
   "metadata": {},
   "outputs": [
    {
     "name": "stdout",
     "output_type": "stream",
     "text": [
      "Gini para 'Local = Sí': 0.0\n"
     ]
    }
   ],
   "source": [
    "# Gini para Local = Sí\n",
    "\n",
    "# Filtrar las filas donde 'Local' = 'Sí'\n",
    "local_si = df[df['Local'] == 'Sí']\n",
    "\n",
    "# Contar la frecuencia de cada clase en 'Ganó' y calcular la proporción manualmente\n",
    "conteos = local_si['Ganó'].value_counts()\n",
    "total = len(local_si)\n",
    "proporciones = conteos / total\n",
    "\n",
    "# Calcular el Gini: 1 - sum(p_i^2)\n",
    "gini_local_si = 1 - sum(proporciones**2)\n",
    "\n",
    "print(f\"Gini para 'Local = Sí': {gini_local_si}\")\n",
    "\n",
    "# Si \"RivalFuerte = Sí\", ¿qué predice el árbol?:\n",
    "# En el árbol de decisión, **\"RivalFuerte\"** se usa para predecir si el equipo ganará, \n",
    "# dependiendo de si el rival es fuerte o no.\n"
   ]
  }
 ],
 "metadata": {
  "kernelspec": {
   "display_name": "Python 3",
   "language": "python",
   "name": "python3"
  },
  "language_info": {
   "codemirror_mode": {
    "name": "ipython",
    "version": 3
   },
   "file_extension": ".py",
   "mimetype": "text/x-python",
   "name": "python",
   "nbconvert_exporter": "python",
   "pygments_lexer": "ipython3",
   "version": "3.11.9"
  }
 },
 "nbformat": 4,
 "nbformat_minor": 5
}
