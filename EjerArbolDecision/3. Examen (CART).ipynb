{
 "cells": [
  {
   "cell_type": "markdown",
   "id": "7cbf683e",
   "metadata": {},
   "source": [
    "#### Jueves 8 de mayo de 2025"
   ]
  },
  {
   "cell_type": "markdown",
   "id": "07a7b6b8",
   "metadata": {},
   "source": [
    "## Árbol de Decisión CART. ¿Aprobaré el examen?"
   ]
  },
  {
   "cell_type": "code",
   "execution_count": 21,
   "id": "30c93bd5",
   "metadata": {},
   "outputs": [],
   "source": [
    "import pandas as pd\n",
    "from sklearn.tree import DecisionTreeClassifier, plot_tree\n",
    "from sklearn.model_selection import train_test_split\n",
    "from sklearn.preprocessing import LabelEncoder\n",
    "import matplotlib.pyplot as plt"
   ]
  },
  {
   "cell_type": "code",
   "execution_count": null,
   "id": "98b6bf59",
   "metadata": {},
   "outputs": [
    {
     "name": "stdout",
     "output_type": "stream",
     "text": [
      "Dataset original: \n"
     ]
    },
    {
     "data": {
      "text/html": [
       "<div>\n",
       "<style scoped>\n",
       "    .dataframe tbody tr th:only-of-type {\n",
       "        vertical-align: middle;\n",
       "    }\n",
       "\n",
       "    .dataframe tbody tr th {\n",
       "        vertical-align: top;\n",
       "    }\n",
       "\n",
       "    .dataframe thead th {\n",
       "        text-align: right;\n",
       "    }\n",
       "</style>\n",
       "<table border=\"1\" class=\"dataframe\">\n",
       "  <thead>\n",
       "    <tr style=\"text-align: right;\">\n",
       "      <th></th>\n",
       "      <th>Estudiante</th>\n",
       "      <th>Estudio</th>\n",
       "      <th>Dormido</th>\n",
       "      <th>Cafe</th>\n",
       "      <th>Aprobo</th>\n",
       "    </tr>\n",
       "  </thead>\n",
       "  <tbody>\n",
       "    <tr>\n",
       "      <th>0</th>\n",
       "      <td>Ana</td>\n",
       "      <td>Sí</td>\n",
       "      <td>Sí</td>\n",
       "      <td>No</td>\n",
       "      <td>Sí</td>\n",
       "    </tr>\n",
       "    <tr>\n",
       "      <th>1</th>\n",
       "      <td>Luis</td>\n",
       "      <td>No</td>\n",
       "      <td>No</td>\n",
       "      <td>Sí</td>\n",
       "      <td>No</td>\n",
       "    </tr>\n",
       "    <tr>\n",
       "      <th>2</th>\n",
       "      <td>Carlos</td>\n",
       "      <td>Sí</td>\n",
       "      <td>No</td>\n",
       "      <td>Sí</td>\n",
       "      <td>Sí</td>\n",
       "    </tr>\n",
       "  </tbody>\n",
       "</table>\n",
       "</div>"
      ],
      "text/plain": [
       "  Estudiante Estudio Dormido Cafe Aprobo\n",
       "0        Ana      Sí      Sí   No     Sí\n",
       "1       Luis      No      No   Sí     No\n",
       "2     Carlos      Sí      No   Sí     Sí"
      ]
     },
     "execution_count": 31,
     "metadata": {},
     "output_type": "execute_result"
    }
   ],
   "source": [
    "#Dataset\n",
    "data = {\n",
    "    'Estudiante': ['Ana', 'Luis', 'Carlos'],\n",
    "    'Estudio': ['Sí', 'No', 'Sí'],\n",
    "    'Dormido': ['Sí', 'No', 'No'],\n",
    "    'Cafe': ['No', 'Sí', 'Sí'],\n",
    "    'Aprobo': ['Sí', 'No', 'Sí']\n",
    "}\n",
    "\n",
    "df = pd.DataFrame(data)\n",
    "print(\"Dataset original: \")\n",
    "print(df)"
   ]
  },
  {
   "cell_type": "code",
   "execution_count": null,
   "id": "25dee34c",
   "metadata": {},
   "outputs": [
    {
     "name": "stdout",
     "output_type": "stream",
     "text": [
      "\n",
      "Dataset codificado:\n"
     ]
    },
    {
     "data": {
      "text/html": [
       "<div>\n",
       "<style scoped>\n",
       "    .dataframe tbody tr th:only-of-type {\n",
       "        vertical-align: middle;\n",
       "    }\n",
       "\n",
       "    .dataframe tbody tr th {\n",
       "        vertical-align: top;\n",
       "    }\n",
       "\n",
       "    .dataframe thead th {\n",
       "        text-align: right;\n",
       "    }\n",
       "</style>\n",
       "<table border=\"1\" class=\"dataframe\">\n",
       "  <thead>\n",
       "    <tr style=\"text-align: right;\">\n",
       "      <th></th>\n",
       "      <th>Estudiante</th>\n",
       "      <th>Estudio</th>\n",
       "      <th>Dormido</th>\n",
       "      <th>Cafe</th>\n",
       "      <th>Aprobo</th>\n",
       "    </tr>\n",
       "  </thead>\n",
       "  <tbody>\n",
       "    <tr>\n",
       "      <th>0</th>\n",
       "      <td>0</td>\n",
       "      <td>1</td>\n",
       "      <td>1</td>\n",
       "      <td>0</td>\n",
       "      <td>1</td>\n",
       "    </tr>\n",
       "    <tr>\n",
       "      <th>1</th>\n",
       "      <td>2</td>\n",
       "      <td>0</td>\n",
       "      <td>0</td>\n",
       "      <td>1</td>\n",
       "      <td>0</td>\n",
       "    </tr>\n",
       "    <tr>\n",
       "      <th>2</th>\n",
       "      <td>1</td>\n",
       "      <td>1</td>\n",
       "      <td>0</td>\n",
       "      <td>1</td>\n",
       "      <td>1</td>\n",
       "    </tr>\n",
       "  </tbody>\n",
       "</table>\n",
       "</div>"
      ],
      "text/plain": [
       "   Estudiante  Estudio  Dormido  Cafe  Aprobo\n",
       "0           0        1        1     0       1\n",
       "1           2        0        0     1       0\n",
       "2           1        1        0     1       1"
      ]
     },
     "execution_count": 32,
     "metadata": {},
     "output_type": "execute_result"
    }
   ],
   "source": [
    "# Cambiar datos categóricos a numéricos\n",
    "label_encoders =  {}\n",
    "df_encoded = df.copy()\n",
    "\n",
    "for column in df.columns:\n",
    "    le = LabelEncoder()\n",
    "    df_encoded[column] = le.fit_transform(df[column])\n",
    "    label_encoders[column] = le\n",
    "print(\"\\nDataset codificado:\")\n",
    "print(df_encoded)"
   ]
  },
  {
   "cell_type": "code",
   "execution_count": 24,
   "id": "7f68cf68",
   "metadata": {},
   "outputs": [
    {
     "name": "stdout",
     "output_type": "stream",
     "text": [
      "\n",
      "Datos de entrenamiento: \n",
      "\n",
      "   Estudio  Dormido  Cafe\n",
      "1        0        0     1\n",
      "2        1        0     1\n",
      "\n",
      "Datos de prueba: \n",
      "\n",
      "   Estudio  Dormido  Cafe\n",
      "0        1        1     0\n"
     ]
    }
   ],
   "source": [
    "#Dividir datos de entrenamiento y prueba\n",
    "X = df_encoded.drop(['Estudiante', 'Aprobo'], axis=1)\n",
    "y = df_encoded['Aprobo']\n",
    "\n",
    "X_train, X_test, y_train, y_test = train_test_split(X, y, test_size=0.3, random_state=42)\n",
    "\n",
    "print(\"\\nDatos de entrenamiento: \\n\")\n",
    "print(X_train)\n",
    "print(\"\\nDatos de prueba: \\n\")\n",
    "print(X_test)"
   ]
  },
  {
   "cell_type": "code",
   "execution_count": 25,
   "id": "fddbc368",
   "metadata": {},
   "outputs": [
    {
     "name": "stdout",
     "output_type": "stream",
     "text": [
      "Profundidad real del árbol: 1\n",
      "Número de hojas: 2\n"
     ]
    }
   ],
   "source": [
    "# Creación y Entrenamiento del modelo\n",
    "modelo = DecisionTreeClassifier(\n",
    "    criterion = 'gini',\n",
    "    random_state = 42\n",
    ")\n",
    "modelo.fit(X, y)\n",
    "\n",
    "print(\"Profundidad real del árbol:\", modelo.get_depth())\n",
    "print(\"Número de hojas:\", modelo.get_n_leaves())\n"
   ]
  },
  {
   "cell_type": "code",
   "execution_count": 26,
   "id": "fbcc7c3c",
   "metadata": {},
   "outputs": [
    {
     "data": {
      "image/png": "[encoded data removed]",
      "text/plain": [
       "<Figure size 1400x400 with 1 Axes>"
      ]
     },
     "metadata": {},
     "output_type": "display_data"
    }
   ],
   "source": [
    "plt.figure(figsize=(14, 4))\n",
    "plot_tree(\n",
    "    modelo, \n",
    "    feature_names = X.columns,\n",
    "    class_names=['No', 'Sí'], \n",
    "    filled=True,\n",
    "    rounded=True,\n",
    "    impurity=True\n",
    ")\n",
    "plt.title(\"Árbol de Decisión - ¿Aprobaré el Examen?\")\n",
    "plt.show()"
   ]
  },
  {
   "cell_type": "code",
   "execution_count": 28,
   "id": "f6f99a9e",
   "metadata": {},
   "outputs": [
    {
     "name": "stdout",
     "output_type": "stream",
     "text": [
      "PREDICCIÓN - ¿APROBARÉ EL EXAMEN? \n",
      "\n",
      "Datos de predicción: \n",
      "\n",
      "Estudio: 1\n",
      "Dormido: 1\n",
      "Cafe: 0\n",
      "\n",
      "Predicción para el nuevo dato:\n",
      "Aprobó el examen\n"
     ]
    }
   ],
   "source": [
    "# Hacer predicciones\n",
    "print(\"PREDICCIÓN - ¿APROBARÉ EL EXAMEN? \\n\")\n",
    "\n",
    "# Ejemplo de predicción\n",
    "nuevos_datos = {\n",
    "    'Estudio': 1,\n",
    "    'Dormido': 1,\n",
    "    'Cafe': 0\n",
    "}\n",
    "\n",
    "nuevo_df = pd.DataFrame([nuevos_datos])\n",
    "print(\"Datos de predicción: \\n\")\n",
    "for atributo, valor in nuevos_datos.items():\n",
    "    print(f\"{atributo}: {valor}\")\n",
    "\n",
    "prediccion = modelo.predict(nuevo_df)\n",
    "\n",
    "print(\"\\nPredicción para el nuevo dato:\")\n",
    "if prediccion[0] == 1:\n",
    "    print(\"Aprobó el examen\")\n",
    "else:\n",
    "    print(\"Reprobó el examen\")"
   ]
  },
  {
   "cell_type": "code",
   "execution_count": 30,
   "id": "f7ac0bd7",
   "metadata": {},
   "outputs": [
    {
     "name": "stdout",
     "output_type": "stream",
     "text": [
      "\n",
      "Importancia de cada atributo\n",
      "\n",
      "Estudio -> 1.0\n",
      "Dormido -> 0.0\n",
      "Cafe -> 0.0\n"
     ]
    }
   ],
   "source": [
    "# Importancia de cada atributo\n",
    "\n",
    "# feature_importances_: muestra la importancia de cada característica en el modelo. \n",
    "# Cuanto mayor sea el valor, más relevante es esa característica para las decisiones del árbol de decisión.\n",
    "\n",
    "importancias = modelo.feature_importances_ \n",
    "\n",
    "print(\"\\nImportancia de cada atributo\\n\")\n",
    "for atributo, importancia in zip(X.columns, importancias):\n",
    "    print(f\"{atributo} -> {importancia}\")"
   ]
  },
  {
   "cell_type": "markdown",
   "id": "15bfcf97",
   "metadata": {},
   "source": [
    "#### ¿Cuál es el Gini inicial? ,Dibuja el árbol hasta el segundo nivel."
   ]
  },
  {
   "cell_type": "code",
   "execution_count": 19,
   "id": "78e5e643",
   "metadata": {},
   "outputs": [],
   "source": [
    "# De acuerdo al árbol mostrado, el gini inicial es de 0.444"
   ]
  }
 ],
 "metadata": {
  "kernelspec": {
   "display_name": "Python 3",
   "language": "python",
   "name": "python3"
  },
  "language_info": {
   "codemirror_mode": {
    "name": "ipython",
    "version": 3
   },
   "file_extension": ".py",
   "mimetype": "text/x-python",
   "name": "python",
   "nbconvert_exporter": "python",
   "pygments_lexer": "ipython3",
   "version": "3.11.9"
  }
 },
 "nbformat": 4,
 "nbformat_minor": 5
}
