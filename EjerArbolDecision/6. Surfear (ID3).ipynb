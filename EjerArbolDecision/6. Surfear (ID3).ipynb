{
 "cells": [
  {
   "cell_type": "markdown",
   "id": "2e6b8f7a",
   "metadata": {},
   "source": [
    "#### Jueves 8 de Mayo de 2025"
   ]
  },
  {
   "cell_type": "markdown",
   "id": "5a0efcbd",
   "metadata": {},
   "source": [
    "## Árbol de Decisión ID3. ¿Es un buen día para surfear?"
   ]
  },
  {
   "cell_type": "code",
   "execution_count": 2,
   "id": "c7391b8b",
   "metadata": {},
   "outputs": [],
   "source": [
    "import pandas as pd\n",
    "from sklearn.tree import DecisionTreeClassifier, plot_tree\n",
    "from sklearn.preprocessing import LabelEncoder\n",
    "import matplotlib.pyplot as plt"
   ]
  },
  {
   "cell_type": "code",
   "execution_count": 3,
   "id": "c7a65b9c",
   "metadata": {},
   "outputs": [
    {
     "name": "stdout",
     "output_type": "stream",
     "text": [
      "Dataset original: \n",
      "\n"
     ]
    },
    {
     "data": {
      "text/html": [
       "<div>\n",
       "<style scoped>\n",
       "    .dataframe tbody tr th:only-of-type {\n",
       "        vertical-align: middle;\n",
       "    }\n",
       "\n",
       "    .dataframe tbody tr th {\n",
       "        vertical-align: top;\n",
       "    }\n",
       "\n",
       "    .dataframe thead th {\n",
       "        text-align: right;\n",
       "    }\n",
       "</style>\n",
       "<table border=\"1\" class=\"dataframe\">\n",
       "  <thead>\n",
       "    <tr style=\"text-align: right;\">\n",
       "      <th></th>\n",
       "      <th>Día</th>\n",
       "      <th>OlasAltas</th>\n",
       "      <th>VientoFuerte</th>\n",
       "      <th>Temperatura</th>\n",
       "      <th>Surfear</th>\n",
       "    </tr>\n",
       "  </thead>\n",
       "  <tbody>\n",
       "    <tr>\n",
       "      <th>0</th>\n",
       "      <td>1</td>\n",
       "      <td>Sí</td>\n",
       "      <td>No</td>\n",
       "      <td>Alta</td>\n",
       "      <td>Sí</td>\n",
       "    </tr>\n",
       "    <tr>\n",
       "      <th>1</th>\n",
       "      <td>2</td>\n",
       "      <td>No</td>\n",
       "      <td>Sí</td>\n",
       "      <td>Baja</td>\n",
       "      <td>No</td>\n",
       "    </tr>\n",
       "    <tr>\n",
       "      <th>2</th>\n",
       "      <td>3</td>\n",
       "      <td>Sí</td>\n",
       "      <td>Sí</td>\n",
       "      <td>Alta</td>\n",
       "      <td>No</td>\n",
       "    </tr>\n",
       "  </tbody>\n",
       "</table>\n",
       "</div>"
      ],
      "text/plain": [
       "   Día OlasAltas VientoFuerte Temperatura Surfear\n",
       "0    1        Sí           No        Alta      Sí\n",
       "1    2        No           Sí        Baja      No\n",
       "2    3        Sí           Sí        Alta      No"
      ]
     },
     "execution_count": 3,
     "metadata": {},
     "output_type": "execute_result"
    }
   ],
   "source": [
    "#Dataset\n",
    "\n",
    "data = {\n",
    "    'Día': [1, 2, 3],\n",
    "    'OlasAltas': ['Sí', 'No', 'Sí'],\n",
    "    'VientoFuerte': ['No', 'Sí', 'Sí'],\n",
    "    'Temperatura': ['Alta', 'Baja', 'Alta'],\n",
    "    'Surfear': ['Sí', 'No', 'No']\n",
    "}\n",
    "\n",
    "df = pd.DataFrame(data)\n",
    "print(\"Dataset original: \\n\")\n",
    "print(df)"
   ]
  },
  {
   "cell_type": "code",
   "execution_count": 4,
   "id": "13db5b89",
   "metadata": {},
   "outputs": [
    {
     "name": "stdout",
     "output_type": "stream",
     "text": [
      "\n",
      "Dataset codificado: \n",
      "\n"
     ]
    },
    {
     "data": {
      "text/html": [
       "<div>\n",
       "<style scoped>\n",
       "    .dataframe tbody tr th:only-of-type {\n",
       "        vertical-align: middle;\n",
       "    }\n",
       "\n",
       "    .dataframe tbody tr th {\n",
       "        vertical-align: top;\n",
       "    }\n",
       "\n",
       "    .dataframe thead th {\n",
       "        text-align: right;\n",
       "    }\n",
       "</style>\n",
       "<table border=\"1\" class=\"dataframe\">\n",
       "  <thead>\n",
       "    <tr style=\"text-align: right;\">\n",
       "      <th></th>\n",
       "      <th>Día</th>\n",
       "      <th>OlasAltas</th>\n",
       "      <th>VientoFuerte</th>\n",
       "      <th>Temperatura</th>\n",
       "      <th>Surfear</th>\n",
       "    </tr>\n",
       "  </thead>\n",
       "  <tbody>\n",
       "    <tr>\n",
       "      <th>0</th>\n",
       "      <td>0</td>\n",
       "      <td>1</td>\n",
       "      <td>0</td>\n",
       "      <td>0</td>\n",
       "      <td>1</td>\n",
       "    </tr>\n",
       "    <tr>\n",
       "      <th>1</th>\n",
       "      <td>1</td>\n",
       "      <td>0</td>\n",
       "      <td>1</td>\n",
       "      <td>1</td>\n",
       "      <td>0</td>\n",
       "    </tr>\n",
       "    <tr>\n",
       "      <th>2</th>\n",
       "      <td>2</td>\n",
       "      <td>1</td>\n",
       "      <td>1</td>\n",
       "      <td>0</td>\n",
       "      <td>0</td>\n",
       "    </tr>\n",
       "  </tbody>\n",
       "</table>\n",
       "</div>"
      ],
      "text/plain": [
       "   Día  OlasAltas  VientoFuerte  Temperatura  Surfear\n",
       "0    0          1             0            0        1\n",
       "1    1          0             1            1        0\n",
       "2    2          1             1            0        0"
      ]
     },
     "execution_count": 4,
     "metadata": {},
     "output_type": "execute_result"
    }
   ],
   "source": [
    "#Codificación de variables categóricas a numéricas\n",
    "\n",
    "le = LabelEncoder()\n",
    "df_encoded = df.copy()\n",
    "for columna in df.columns:\n",
    "    df_encoded[columna] = le.fit_transform(df[columna])\n",
    "\n",
    "print(\"\\nDataset codificado: \\n\")\n",
    "print(df_encoded)"
   ]
  },
  {
   "cell_type": "code",
   "execution_count": 5,
   "id": "ed70d124",
   "metadata": {},
   "outputs": [],
   "source": [
    "#Separacion de carcaterísticas (X) y (y)\n",
    "X = df_encoded.drop(['Día', 'Surfear'], axis=1)\n",
    "y = df_encoded['Surfear']"
   ]
  },
  {
   "cell_type": "code",
   "execution_count": 8,
   "id": "bc62d13d",
   "metadata": {},
   "outputs": [
    {
     "name": "stdout",
     "output_type": "stream",
     "text": [
      "Profundidad real del árbol: 1\n",
      "Número de hojas: 2\n"
     ]
    }
   ],
   "source": [
    "#Entrenamiento del árbol de decisión\n",
    "modelo = DecisionTreeClassifier(\n",
    "    criterion='entropy',\n",
    "    max_depth=5,\n",
    "    random_state=42\n",
    ")\n",
    "\n",
    "modelo.fit(X, y)\n",
    "\n",
    "print(\"Profundidad real del árbol:\", modelo.get_depth())\n",
    "print(\"Número de hojas:\", modelo.get_n_leaves())"
   ]
  },
  {
   "cell_type": "code",
   "execution_count": 10,
   "id": "bd6bac71",
   "metadata": {},
   "outputs": [
    {
     "data": {
      "image/png": "[encoded data removed]",
      "text/plain": [
       "<Figure size 1400x400 with 1 Axes>"
      ]
     },
     "metadata": {},
     "output_type": "display_data"
    }
   ],
   "source": [
    "#Visualización del Árbol de Decisión\n",
    "plt.figure(figsize=(14, 4))\n",
    "plot_tree(\n",
    "    modelo, \n",
    "    feature_names = X.columns,\n",
    "    class_names = df['Surfear'].unique(),\n",
    "    filled = True,\n",
    "    rounded = True\n",
    ")\n",
    "plt.title('Árbol de Decisión - ¿Es un buen día para surfear?')\n",
    "plt.show()"
   ]
  },
  {
   "cell_type": "code",
   "execution_count": 14,
   "id": "c7a018d9",
   "metadata": {},
   "outputs": [
    {
     "name": "stdout",
     "output_type": "stream",
     "text": [
      "PREDICCIÓN - ¿ES UN BUEN DÍA PARA SURFEAR?\n",
      "\n",
      "OlasAltas: 1\n",
      "VientoFuerte: 0\n",
      "Temperatura: 1\n",
      "\n",
      "Predicción para el nuevo día:\n",
      "\n",
      "Si puedes surfear\n"
     ]
    }
   ],
   "source": [
    "# Predicciones\n",
    "\n",
    "# OlasAltas: 1=Sí 0=No\n",
    "# VientoFuerte: 1=Sí 0=No\n",
    "# Temperatura: 1=Alta 0=Baja \n",
    "\n",
    "print(\"PREDICCIÓN - ¿ES UN BUEN DÍA PARA SURFEAR?\\n\")\n",
    "\n",
    "nuevo_dia = {\n",
    "    'OlasAltas': 1,\n",
    "    'VientoFuerte': 0,\n",
    "    'Temperatura': 1\n",
    "}\n",
    "\n",
    "nuevo_df = pd.DataFrame([nuevo_dia])\n",
    "\n",
    "for atributo, valor in nuevo_dia.items():\n",
    "    print(f\"{atributo}: {valor}\")\n",
    "\n",
    "prediccion = modelo.predict(nuevo_df)\n",
    "\n",
    "print(\"\\nPredicción para el nuevo día:\")\n",
    "if prediccion[0] == 1:\n",
    "    print(\"\\nSi puedes surfear\")\n",
    "else:\n",
    "    print(\"\\nNo debes surfear\")"
   ]
  },
  {
   "cell_type": "code",
   "execution_count": 15,
   "id": "ec18b005",
   "metadata": {},
   "outputs": [
    {
     "name": "stdout",
     "output_type": "stream",
     "text": [
      "\n",
      "Importancia de cada atributo\n",
      "\n",
      "OlasAltas -> 0.0\n",
      "VientoFuerte -> 1.0\n",
      "Temperatura -> 0.0\n"
     ]
    }
   ],
   "source": [
    "# Importancia de cada atributo\n",
    "\n",
    "# feature_importances_: muestra la importancia de cada característica en el modelo. \n",
    "# Cuanto mayor sea el valor, más relevante es esa característica para las decisiones del árbol de decisión.\n",
    "\n",
    "importancias = modelo.feature_importances_ \n",
    "\n",
    "print(\"\\nImportancia de cada atributo\\n\")\n",
    "for atributo, importancia in zip(X.columns, importancias):\n",
    "    print(f\"{atributo} -> {importancia}\")"
   ]
  },
  {
   "cell_type": "markdown",
   "id": "d636b442",
   "metadata": {},
   "source": [
    "####  Calcula la ganancia de información para \"OlasAltas\". ¿Por qué \"VientoFuerte\" podría ser importante?"
   ]
  },
  {
   "cell_type": "code",
   "execution_count": null,
   "id": "170d6c76",
   "metadata": {},
   "outputs": [],
   "source": [
    "# Con el cálculo anterior la ganancia de información para OlasAltas es de 0.0. VientoFuerte tiene 1.0, y es\n",
    "# importante porque tiene  mayor importancia dentro del árbol, es el mayor de los tres. Influye más en \n",
    "# la decisión de surfear o más."
   ]
  }
 ],
 "metadata": {
  "kernelspec": {
   "display_name": "Python 3",
   "language": "python",
   "name": "python3"
  },
  "language_info": {
   "codemirror_mode": {
    "name": "ipython",
    "version": 3
   },
   "file_extension": ".py",
   "mimetype": "text/x-python",
   "name": "python",
   "nbconvert_exporter": "python",
   "pygments_lexer": "ipython3",
   "version": "3.11.9"
  }
 },
 "nbformat": 4,
 "nbformat_minor": 5
}
