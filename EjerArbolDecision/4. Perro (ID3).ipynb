{
 "cells": [
  {
   "cell_type": "markdown",
   "id": "2e6b8f7a",
   "metadata": {},
   "source": [
    "#### Jueves 8 de Mayo de 2025"
   ]
  },
  {
   "cell_type": "markdown",
   "id": "5a0efcbd",
   "metadata": {},
   "source": [
    "## Árbol de Decisión ID3. ¿Es un perro peligroso?"
   ]
  },
  {
   "cell_type": "code",
   "execution_count": 4,
   "id": "c7391b8b",
   "metadata": {},
   "outputs": [],
   "source": [
    "import pandas as pd\n",
    "from sklearn.tree import DecisionTreeClassifier, plot_tree\n",
    "from sklearn.preprocessing import LabelEncoder\n",
    "import matplotlib.pyplot as plt"
   ]
  },
  {
   "cell_type": "code",
   "execution_count": null,
   "id": "c7a65b9c",
   "metadata": {},
   "outputs": [
    {
     "name": "stdout",
     "output_type": "stream",
     "text": [
      "Dataset original: \n",
      "\n"
     ]
    },
    {
     "data": {
      "text/html": [
       "<div>\n",
       "<style scoped>\n",
       "    .dataframe tbody tr th:only-of-type {\n",
       "        vertical-align: middle;\n",
       "    }\n",
       "\n",
       "    .dataframe tbody tr th {\n",
       "        vertical-align: top;\n",
       "    }\n",
       "\n",
       "    .dataframe thead th {\n",
       "        text-align: right;\n",
       "    }\n",
       "</style>\n",
       "<table border=\"1\" class=\"dataframe\">\n",
       "  <thead>\n",
       "    <tr style=\"text-align: right;\">\n",
       "      <th></th>\n",
       "      <th>Raza</th>\n",
       "      <th>Tamaño</th>\n",
       "      <th>LadraMucho</th>\n",
       "      <th>Peludo</th>\n",
       "      <th>Peligroso</th>\n",
       "    </tr>\n",
       "  </thead>\n",
       "  <tbody>\n",
       "    <tr>\n",
       "      <th>0</th>\n",
       "      <td>Chihuahua</td>\n",
       "      <td>Pequeño</td>\n",
       "      <td>Sí</td>\n",
       "      <td>Sí</td>\n",
       "      <td>No</td>\n",
       "    </tr>\n",
       "    <tr>\n",
       "      <th>1</th>\n",
       "      <td>Pitbull</td>\n",
       "      <td>Grande</td>\n",
       "      <td>No</td>\n",
       "      <td>No</td>\n",
       "      <td>Sí</td>\n",
       "    </tr>\n",
       "    <tr>\n",
       "      <th>2</th>\n",
       "      <td>Labrador</td>\n",
       "      <td>Grande</td>\n",
       "      <td>Sí</td>\n",
       "      <td>Sí</td>\n",
       "      <td>No</td>\n",
       "    </tr>\n",
       "  </tbody>\n",
       "</table>\n",
       "</div>"
      ],
      "text/plain": [
       "        Raza   Tamaño LadraMucho Peludo Peligroso\n",
       "0  Chihuahua  Pequeño         Sí     Sí        No\n",
       "1    Pitbull   Grande         No     No        Sí\n",
       "2   Labrador   Grande         Sí     Sí        No"
      ]
     },
     "execution_count": 6,
     "metadata": {},
     "output_type": "execute_result"
    }
   ],
   "source": [
    "#Dataset\n",
    "\n",
    "data = {\n",
    "    'Raza': ['Chihuahua', 'Pitbull', 'Labrador'],\n",
    "    'Tamaño': ['Pequeño', 'Grande', 'Grande'],\n",
    "    'LadraMucho': ['Sí', 'No', 'Sí'],\n",
    "    'Peludo': ['Sí', 'No', 'Sí'],\n",
    "    'Peligroso': ['No', 'Sí', 'No']\n",
    "}\n",
    "\n",
    "df = pd.DataFrame(data)\n",
    "print(\"Dataset original: \\n\")\n",
    "print(df)"
   ]
  },
  {
   "cell_type": "code",
   "execution_count": null,
   "id": "13db5b89",
   "metadata": {},
   "outputs": [
    {
     "name": "stdout",
     "output_type": "stream",
     "text": [
      "\n",
      "Dataset codificado: \n",
      "\n"
     ]
    },
    {
     "data": {
      "text/html": [
       "<div>\n",
       "<style scoped>\n",
       "    .dataframe tbody tr th:only-of-type {\n",
       "        vertical-align: middle;\n",
       "    }\n",
       "\n",
       "    .dataframe tbody tr th {\n",
       "        vertical-align: top;\n",
       "    }\n",
       "\n",
       "    .dataframe thead th {\n",
       "        text-align: right;\n",
       "    }\n",
       "</style>\n",
       "<table border=\"1\" class=\"dataframe\">\n",
       "  <thead>\n",
       "    <tr style=\"text-align: right;\">\n",
       "      <th></th>\n",
       "      <th>Raza</th>\n",
       "      <th>Tamaño</th>\n",
       "      <th>LadraMucho</th>\n",
       "      <th>Peludo</th>\n",
       "      <th>Peligroso</th>\n",
       "    </tr>\n",
       "  </thead>\n",
       "  <tbody>\n",
       "    <tr>\n",
       "      <th>0</th>\n",
       "      <td>0</td>\n",
       "      <td>1</td>\n",
       "      <td>1</td>\n",
       "      <td>1</td>\n",
       "      <td>0</td>\n",
       "    </tr>\n",
       "    <tr>\n",
       "      <th>1</th>\n",
       "      <td>2</td>\n",
       "      <td>0</td>\n",
       "      <td>0</td>\n",
       "      <td>0</td>\n",
       "      <td>1</td>\n",
       "    </tr>\n",
       "    <tr>\n",
       "      <th>2</th>\n",
       "      <td>1</td>\n",
       "      <td>0</td>\n",
       "      <td>1</td>\n",
       "      <td>1</td>\n",
       "      <td>0</td>\n",
       "    </tr>\n",
       "  </tbody>\n",
       "</table>\n",
       "</div>"
      ],
      "text/plain": [
       "   Raza  Tamaño  LadraMucho  Peludo  Peligroso\n",
       "0     0       1           1       1          0\n",
       "1     2       0           0       0          1\n",
       "2     1       0           1       1          0"
      ]
     },
     "execution_count": 7,
     "metadata": {},
     "output_type": "execute_result"
    }
   ],
   "source": [
    "#Codificación de variables categóricas a numéricas\n",
    "\n",
    "le = LabelEncoder()\n",
    "df_encoded = df.copy()\n",
    "for columna in df.columns:\n",
    "    df_encoded[columna] = le.fit_transform(df[columna])\n",
    "\n",
    "print(\"\\nDataset codificado: \\n\")\n",
    "print(df_encoded)"
   ]
  },
  {
   "cell_type": "code",
   "execution_count": 8,
   "id": "ed70d124",
   "metadata": {},
   "outputs": [],
   "source": [
    "#Separacion de carcaterísticas (X) y (y)\n",
    "X = df_encoded.drop('Peligroso', axis=1)\n",
    "y = df_encoded['Peligroso']"
   ]
  },
  {
   "cell_type": "code",
   "execution_count": 9,
   "id": "bc62d13d",
   "metadata": {},
   "outputs": [
    {
     "name": "stdout",
     "output_type": "stream",
     "text": [
      "Profundidad real del árbol: 1\n",
      "Número de hojas: 2\n"
     ]
    }
   ],
   "source": [
    "#Entrenamiento del árbol de decisión\n",
    "modelo = DecisionTreeClassifier(\n",
    "    criterion='entropy',\n",
    "    max_depth=5,\n",
    "    random_state=42\n",
    ")\n",
    "\n",
    "modelo.fit(X, y)\n",
    "\n",
    "print(\"Profundidad real del árbol:\", modelo.get_depth())\n",
    "print(\"Número de hojas:\", modelo.get_n_leaves())"
   ]
  },
  {
   "cell_type": "code",
   "execution_count": 10,
   "id": "bd6bac71",
   "metadata": {},
   "outputs": [
    {
     "data": {
      "image/png": "[encoded data removed]",
      "text/plain": [
       "<Figure size 1400x400 with 1 Axes>"
      ]
     },
     "metadata": {},
     "output_type": "display_data"
    }
   ],
   "source": [
    "#Visualización del Árbol de Decisión\n",
    "plt.figure(figsize=(14, 4))\n",
    "plot_tree(\n",
    "    modelo, \n",
    "    feature_names = X.columns,\n",
    "    class_names = df['Peligroso'].unique(),\n",
    "    filled = True,\n",
    "    rounded = True\n",
    ")\n",
    "plt.title('Árbol de Decisión - ¿Es un perro peligroso?')\n",
    "plt.show()"
   ]
  },
  {
   "cell_type": "code",
   "execution_count": 12,
   "id": "c7a018d9",
   "metadata": {},
   "outputs": [
    {
     "name": "stdout",
     "output_type": "stream",
     "text": [
      "PREDICCIÓN - ¿ES UN PERRO PELIGROSO?\n",
      "\n",
      "Raza: 2\n",
      "Tamaño: 0\n",
      "LadraMucho: 0\n",
      "Peludo: 1\n",
      "\n",
      "Predicción para el nuevo perro:\n",
      "\n",
      "El perro es peligroso\n"
     ]
    }
   ],
   "source": [
    "# Predicciones\n",
    "\n",
    "# Raza: 0=Chihuahua 1: Labrador 2: Pitbull\n",
    "# Tamaño: 1=Pequeño 0:Grande\n",
    "# LadraMucho: 1=Sí 0=No\n",
    "# Peludo: 1=Sí 0=No\n",
    "\n",
    "print(\"PREDICCIÓN - ¿ES UN PERRO PELIGROSO?\\n\")\n",
    "\n",
    "nuevo_perro = {\n",
    "    'Raza': 2,\n",
    "    'Tamaño': 0,\n",
    "    'LadraMucho': 0,\n",
    "    'Peludo': 1\n",
    "}\n",
    "\n",
    "nuevo_df = pd.DataFrame([nuevo_perro])\n",
    "\n",
    "for atributo, valor in nuevo_perro.items():\n",
    "    print(f\"{atributo}: {valor}\")\n",
    "\n",
    "prediccion = modelo.predict(nuevo_df)\n",
    "\n",
    "print(\"\\nPredicción para el nuevo perro:\")\n",
    "if prediccion[0] == 1:\n",
    "    print(\"\\nEl perro es peligroso\")\n",
    "else:\n",
    "    print(\"\\nEl perro no es peligroso\")"
   ]
  },
  {
   "cell_type": "code",
   "execution_count": 14,
   "id": "0d812f5e",
   "metadata": {},
   "outputs": [
    {
     "name": "stdout",
     "output_type": "stream",
     "text": [
      "\n",
      "Importancia de cada atributo\n",
      "\n",
      "Raza -> 1.0\n",
      "Tamaño -> 0.0\n",
      "LadraMucho -> 0.0\n",
      "Peludo -> 0.0\n"
     ]
    }
   ],
   "source": [
    "# Importancia de cada atributo\n",
    "\n",
    "# feature_importances_: muestra la importancia de cada característica en el modelo. \n",
    "# Cuanto mayor sea el valor, más relevante es esa característica para las decisiones del árbol de decisión.\n",
    "\n",
    "importancias = modelo.feature_importances_ \n",
    "\n",
    "print(\"\\nImportancia de cada atributo\\n\")\n",
    "for atributo, importancia in zip(X.columns, importancias):\n",
    "    print(f\"{atributo} -> {importancia}\")"
   ]
  },
  {
   "cell_type": "markdown",
   "id": "d636b442",
   "metadata": {},
   "source": [
    "####  ¿Cuál es la entropía del nodo raíz? , ¿Cómo afecta el atributo \"Peludo\" al árbol?"
   ]
  },
  {
   "cell_type": "code",
   "execution_count": 15,
   "id": "170d6c76",
   "metadata": {},
   "outputs": [],
   "source": [
    "# La entropía del nodo raíz es de: 0.918\n",
    "\n",
    "# En este pequeño conjunto de datos, el atributo \"Peludo\" tiene un impacto directo sobre si un perro \n",
    "# es peligroso o no. Cuando el perro es peludo, no es peligroso (como el Chihuahua y el Labrador). \n",
    "# En cambio, el único perro que no es peludo (el Pitbull), sí es peligroso."
   ]
  }
 ],
 "metadata": {
  "kernelspec": {
   "display_name": "Python 3",
   "language": "python",
   "name": "python3"
  },
  "language_info": {
   "codemirror_mode": {
    "name": "ipython",
    "version": 3
   },
   "file_extension": ".py",
   "mimetype": "text/x-python",
   "name": "python",
   "nbconvert_exporter": "python",
   "pygments_lexer": "ipython3",
   "version": "3.11.9"
  }
 },
 "nbformat": 4,
 "nbformat_minor": 5
}
