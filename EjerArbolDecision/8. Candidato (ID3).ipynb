{
 "cells": [
  {
   "cell_type": "markdown",
   "id": "2e6b8f7a",
   "metadata": {},
   "source": [
    "#### Jueves 8 de Mayo de 2025"
   ]
  },
  {
   "cell_type": "markdown",
   "id": "5a0efcbd",
   "metadata": {},
   "source": [
    "## Árbol de Decisión ID3. ¿Es un buen candidato para un trabajo?"
   ]
  },
  {
   "cell_type": "code",
   "execution_count": 2,
   "id": "c7391b8b",
   "metadata": {},
   "outputs": [],
   "source": [
    "import pandas as pd\n",
    "from sklearn.tree import DecisionTreeClassifier, plot_tree\n",
    "from sklearn.preprocessing import LabelEncoder\n",
    "import matplotlib.pyplot as plt"
   ]
  },
  {
   "cell_type": "code",
   "execution_count": null,
   "id": "c7a65b9c",
   "metadata": {},
   "outputs": [
    {
     "name": "stdout",
     "output_type": "stream",
     "text": [
      "Dataset original: \n",
      "\n"
     ]
    },
    {
     "data": {
      "text/html": [
       "<div>\n",
       "<style scoped>\n",
       "    .dataframe tbody tr th:only-of-type {\n",
       "        vertical-align: middle;\n",
       "    }\n",
       "\n",
       "    .dataframe tbody tr th {\n",
       "        vertical-align: top;\n",
       "    }\n",
       "\n",
       "    .dataframe thead th {\n",
       "        text-align: right;\n",
       "    }\n",
       "</style>\n",
       "<table border=\"1\" class=\"dataframe\">\n",
       "  <thead>\n",
       "    <tr style=\"text-align: right;\">\n",
       "      <th></th>\n",
       "      <th>Candidato</th>\n",
       "      <th>Experiencia</th>\n",
       "      <th>Titulado</th>\n",
       "      <th>HabilidadesBlandas</th>\n",
       "      <th>Contratado</th>\n",
       "    </tr>\n",
       "  </thead>\n",
       "  <tbody>\n",
       "    <tr>\n",
       "      <th>0</th>\n",
       "      <td>A</td>\n",
       "      <td>Sí</td>\n",
       "      <td>No</td>\n",
       "      <td>Sí</td>\n",
       "      <td>Sí</td>\n",
       "    </tr>\n",
       "    <tr>\n",
       "      <th>1</th>\n",
       "      <td>B</td>\n",
       "      <td>No</td>\n",
       "      <td>Sí</td>\n",
       "      <td>No</td>\n",
       "      <td>No</td>\n",
       "    </tr>\n",
       "    <tr>\n",
       "      <th>2</th>\n",
       "      <td>C</td>\n",
       "      <td>Sí</td>\n",
       "      <td>Sí</td>\n",
       "      <td>Sí</td>\n",
       "      <td>Sí</td>\n",
       "    </tr>\n",
       "  </tbody>\n",
       "</table>\n",
       "</div>"
      ],
      "text/plain": [
       "  Candidato Experiencia Titulado HabilidadesBlandas Contratado\n",
       "0         A          Sí       No                 Sí         Sí\n",
       "1         B          No       Sí                 No         No\n",
       "2         C          Sí       Sí                 Sí         Sí"
      ]
     },
     "execution_count": 10,
     "metadata": {},
     "output_type": "execute_result"
    }
   ],
   "source": [
    "#Dataset\n",
    "\n",
    "data = {\n",
    "    'Candidato': ['A', 'B', 'C'],\n",
    "    'Experiencia': ['Sí', 'No', 'Sí'],\n",
    "    'Titulado': ['No', 'Sí', 'Sí'],\n",
    "    'HabilidadesBlandas': ['Sí', 'No', 'Sí'],\n",
    "    'Contratado': ['Sí', 'No', 'Sí']\n",
    "}\n",
    "\n",
    "df = pd.DataFrame(data)\n",
    "print(\"Dataset original: \\n\")\n",
    "print(df)"
   ]
  },
  {
   "cell_type": "code",
   "execution_count": null,
   "id": "13db5b89",
   "metadata": {},
   "outputs": [
    {
     "name": "stdout",
     "output_type": "stream",
     "text": [
      "\n",
      "Dataset codificado: \n",
      "\n"
     ]
    },
    {
     "data": {
      "text/html": [
       "<div>\n",
       "<style scoped>\n",
       "    .dataframe tbody tr th:only-of-type {\n",
       "        vertical-align: middle;\n",
       "    }\n",
       "\n",
       "    .dataframe tbody tr th {\n",
       "        vertical-align: top;\n",
       "    }\n",
       "\n",
       "    .dataframe thead th {\n",
       "        text-align: right;\n",
       "    }\n",
       "</style>\n",
       "<table border=\"1\" class=\"dataframe\">\n",
       "  <thead>\n",
       "    <tr style=\"text-align: right;\">\n",
       "      <th></th>\n",
       "      <th>Candidato</th>\n",
       "      <th>Experiencia</th>\n",
       "      <th>Titulado</th>\n",
       "      <th>HabilidadesBlandas</th>\n",
       "      <th>Contratado</th>\n",
       "    </tr>\n",
       "  </thead>\n",
       "  <tbody>\n",
       "    <tr>\n",
       "      <th>0</th>\n",
       "      <td>0</td>\n",
       "      <td>1</td>\n",
       "      <td>0</td>\n",
       "      <td>1</td>\n",
       "      <td>1</td>\n",
       "    </tr>\n",
       "    <tr>\n",
       "      <th>1</th>\n",
       "      <td>1</td>\n",
       "      <td>0</td>\n",
       "      <td>1</td>\n",
       "      <td>0</td>\n",
       "      <td>0</td>\n",
       "    </tr>\n",
       "    <tr>\n",
       "      <th>2</th>\n",
       "      <td>2</td>\n",
       "      <td>1</td>\n",
       "      <td>1</td>\n",
       "      <td>1</td>\n",
       "      <td>1</td>\n",
       "    </tr>\n",
       "  </tbody>\n",
       "</table>\n",
       "</div>"
      ],
      "text/plain": [
       "   Candidato  Experiencia  Titulado  HabilidadesBlandas  Contratado\n",
       "0          0            1         0                   1           1\n",
       "1          1            0         1                   0           0\n",
       "2          2            1         1                   1           1"
      ]
     },
     "execution_count": 11,
     "metadata": {},
     "output_type": "execute_result"
    }
   ],
   "source": [
    "#Codificación de variables categóricas a numéricas\n",
    "\n",
    "le = LabelEncoder()\n",
    "df_encoded = df.copy()\n",
    "for columna in df.columns:\n",
    "    df_encoded[columna] = le.fit_transform(df[columna])\n",
    "\n",
    "print(\"\\nDataset codificado: \\n\")\n",
    "print(df_encoded)"
   ]
  },
  {
   "cell_type": "code",
   "execution_count": 12,
   "id": "ed70d124",
   "metadata": {},
   "outputs": [],
   "source": [
    "#Separacion de carcaterísticas (X) y (y)\n",
    "X = df_encoded.drop(['Candidato', 'Contratado'], axis=1)\n",
    "y = df_encoded['Contratado']"
   ]
  },
  {
   "cell_type": "code",
   "execution_count": 13,
   "id": "bc62d13d",
   "metadata": {},
   "outputs": [
    {
     "name": "stdout",
     "output_type": "stream",
     "text": [
      "Profundidad real del árbol: 1\n",
      "Número de hojas: 2\n"
     ]
    }
   ],
   "source": [
    "#Entrenamiento del árbol de decisión\n",
    "modelo = DecisionTreeClassifier(\n",
    "    criterion='entropy',\n",
    "    max_depth=5,\n",
    "    random_state=42\n",
    ")\n",
    "\n",
    "modelo.fit(X, y)\n",
    "\n",
    "print(\"Profundidad real del árbol:\", modelo.get_depth())\n",
    "print(\"Número de hojas:\", modelo.get_n_leaves())"
   ]
  },
  {
   "cell_type": "code",
   "execution_count": 17,
   "id": "bd6bac71",
   "metadata": {},
   "outputs": [
    {
     "data": {
      "image/png": "[encoded data removed]",
      "text/plain": [
       "<Figure size 1800x400 with 1 Axes>"
      ]
     },
     "metadata": {},
     "output_type": "display_data"
    }
   ],
   "source": [
    "#Visualización del Árbol de Decisión\n",
    "plt.figure(figsize=(18, 4))\n",
    "plot_tree(\n",
    "    modelo, \n",
    "    feature_names = X.columns,\n",
    "    class_names = df['Candidato'].unique(),\n",
    "    filled = True,\n",
    "    rounded = True\n",
    ")\n",
    "plt.title('Árbol de Decisión - ¿Es un buen candidato para un trabajo?')\n",
    "plt.show()"
   ]
  },
  {
   "cell_type": "code",
   "execution_count": 18,
   "id": "c7a018d9",
   "metadata": {},
   "outputs": [
    {
     "name": "stdout",
     "output_type": "stream",
     "text": [
      "PREDICCIÓN - ¿ES UN BUEN CANDIDATO PARA UN TRABAJO?\n",
      "\n",
      "Experiencia: 1\n",
      "Titulado: 1\n",
      "HabilidadesBlandas: 0\n",
      "\n",
      "Predicción para el nuevo día:\n",
      "\n",
      "No es candidato para el trabajo\n"
     ]
    }
   ],
   "source": [
    "# Predicciones\n",
    "\n",
    "# Experiencia: 1=Sí 0=No\t\n",
    "# Titulado: 1=Sí 0=No\t\t\n",
    "# HabilidadesBlandas 1=Sí 0=No\t\n",
    "\n",
    "print(\"PREDICCIÓN - ¿ES UN BUEN CANDIDATO PARA UN TRABAJO?\\n\")\n",
    "\n",
    "nuevo_dia = {\n",
    "    'Experiencia': 1,\n",
    "    'Titulado': 1,\n",
    "    'HabilidadesBlandas': 0\n",
    "}\n",
    "\n",
    "nuevo_df = pd.DataFrame([nuevo_dia])\n",
    "\n",
    "for atributo, valor in nuevo_dia.items():\n",
    "    print(f\"{atributo}: {valor}\")\n",
    "\n",
    "prediccion = modelo.predict(nuevo_df)\n",
    "\n",
    "print(\"\\nPredicción para el nuevo día:\")\n",
    "if prediccion[0] == 1:\n",
    "    print(\"\\nEs buen candidato para el trabajo\")\n",
    "else:\n",
    "    print(\"\\nNo es candidato para el trabajo\")"
   ]
  },
  {
   "cell_type": "code",
   "execution_count": 19,
   "id": "ec18b005",
   "metadata": {},
   "outputs": [
    {
     "name": "stdout",
     "output_type": "stream",
     "text": [
      "\n",
      "Importancia de cada atributo\n",
      "\n",
      "Experiencia -> 0.0\n",
      "Titulado -> 0.0\n",
      "HabilidadesBlandas -> 1.0\n"
     ]
    }
   ],
   "source": [
    "# Importancia de cada atributo\n",
    "\n",
    "# feature_importances_: muestra la importancia de cada característica en el modelo. \n",
    "# Cuanto mayor sea el valor, más relevante es esa característica para las decisiones del árbol de decisión.\n",
    "\n",
    "importancias = modelo.feature_importances_ \n",
    "\n",
    "print(\"\\nImportancia de cada atributo\\n\")\n",
    "for atributo, importancia in zip(X.columns, importancias):\n",
    "    print(f\"{atributo} -> {importancia}\")"
   ]
  },
  {
   "cell_type": "markdown",
   "id": "d636b442",
   "metadata": {},
   "source": [
    "####  Calcula la ganancia de información para \"Experiencia\". ¿Qué atributo es redundante?"
   ]
  },
  {
   "cell_type": "code",
   "execution_count": 20,
   "id": "170d6c76",
   "metadata": {},
   "outputs": [],
   "source": [
    "# La ganacia de información para experiencia es de 0.0\n",
    "\n",
    "# Experiencia y Titulado son redundantes porque, al parecer no aportan nada para predecir si \n",
    "# un candidato será Contratado. Esto puede indicar que estos atributos no están influyendo de \n",
    "# manera significativa en la decisión, y HabilidadesBlandas es el único atributo relevante."
   ]
  }
 ],
 "metadata": {
  "kernelspec": {
   "display_name": "Python 3",
   "language": "python",
   "name": "python3"
  },
  "language_info": {
   "codemirror_mode": {
    "name": "ipython",
    "version": 3
   },
   "file_extension": ".py",
   "mimetype": "text/x-python",
   "name": "python",
   "nbconvert_exporter": "python",
   "pygments_lexer": "ipython3",
   "version": "3.11.9"
  }
 },
 "nbformat": 4,
 "nbformat_minor": 5
}
