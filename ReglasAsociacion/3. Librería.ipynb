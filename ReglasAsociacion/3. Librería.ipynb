{
 "cells": [
  {
   "cell_type": "markdown",
   "id": "5934d620",
   "metadata": {},
   "source": [
    "#### Viernes 16 de mayo de 2025"
   ]
  },
  {
   "cell_type": "markdown",
   "id": "4cf288c0",
   "metadata": {},
   "source": [
    "## Reglas de Asociación. Algoritmo Apriori. Análisis de Ventas en una Librería"
   ]
  },
  {
   "cell_type": "code",
   "execution_count": 2,
   "id": "006d9023",
   "metadata": {},
   "outputs": [],
   "source": [
    "import pandas as pd\n",
    "from mlxtend.frequent_patterns import apriori, association_rules\n",
    "from mlxtend.preprocessing import TransactionEncoder"
   ]
  },
  {
   "cell_type": "markdown",
   "id": "bb0e18ef",
   "metadata": {},
   "source": [
    "#### Contexto: Eres el gerente de Libros & Más, una librería que quiere optimizar sus recomendaciones y disposición de productos. Tienes datos de 10 transacciones recientes:"
   ]
  },
  {
   "cell_type": "code",
   "execution_count": 3,
   "id": "8cbf5311",
   "metadata": {},
   "outputs": [
    {
     "name": "stdout",
     "output_type": "stream",
     "text": [
      "Dataset Original: \n",
      "\n",
      "Transacción 1: ['Novela', 'Café', 'Marcadores']\n",
      "Transacción 2: ['Libro de Ciencia', 'Cuaderno', 'Lápiz']\n",
      "Transacción 3: ['Novela', 'Café', 'Lápiz']\n",
      "Transacción 4: ['Libro de Historia', 'Marcadores', 'Post-it']\n",
      "Transacción 5: ['Cuaderno', 'Lápiz', 'Post-it']\n",
      "Transacción 6: ['Novela', 'Libro de Ciencia', 'Café']\n",
      "Transacción 7: ['Libro de Historia', 'Cuaderno']\n",
      "Transacción 8: ['Café', 'Post-it', 'Marcadores']\n",
      "Transacción 9: ['Novela', 'Lápiz']\n",
      "Transacción 10: ['Libro de Ciencia', 'Cuaderno', 'Post-it']\n"
     ]
    }
   ],
   "source": [
    "# Transacciones\n",
    "\n",
    "transacciones = [\n",
    "    ['Novela', 'Café', 'Marcadores'],\n",
    "    ['Libro de Ciencia', 'Cuaderno', 'Lápiz'],\n",
    "    ['Novela', 'Café', 'Lápiz'],\n",
    "    ['Libro de Historia', 'Marcadores', 'Post-it'],\n",
    "    ['Cuaderno', 'Lápiz', 'Post-it'],\n",
    "    ['Novela', 'Libro de Ciencia', 'Café'],\n",
    "    ['Libro de Historia', 'Cuaderno'],\n",
    "    ['Café', 'Post-it', 'Marcadores'],\n",
    "    ['Novela', 'Lápiz'],\n",
    "    ['Libro de Ciencia', 'Cuaderno', 'Post-it']\n",
    "]\n",
    "\n",
    "print(\"Dataset Original: \\n\")\n",
    "for i, transaccion in enumerate(transacciones, 1):\n",
    "    print(f\"Transacción {i}: {transaccion}\")"
   ]
  },
  {
   "cell_type": "markdown",
   "id": "1a9b74dc",
   "metadata": {},
   "source": [
    "### Preprocesamiento de Datos"
   ]
  },
  {
   "cell_type": "code",
   "execution_count": null,
   "id": "d4c6fee2",
   "metadata": {},
   "outputs": [
    {
     "name": "stdout",
     "output_type": "stream",
     "text": [
      "\n",
      "Dataset Transormado (One-Hot Encoding): \n",
      "\n"
     ]
    },
    {
     "data": {
      "text/html": [
       "<div>\n",
       "<style scoped>\n",
       "    .dataframe tbody tr th:only-of-type {\n",
       "        vertical-align: middle;\n",
       "    }\n",
       "\n",
       "    .dataframe tbody tr th {\n",
       "        vertical-align: top;\n",
       "    }\n",
       "\n",
       "    .dataframe thead th {\n",
       "        text-align: right;\n",
       "    }\n",
       "</style>\n",
       "<table border=\"1\" class=\"dataframe\">\n",
       "  <thead>\n",
       "    <tr style=\"text-align: right;\">\n",
       "      <th></th>\n",
       "      <th>Café</th>\n",
       "      <th>Cuaderno</th>\n",
       "      <th>Libro de Ciencia</th>\n",
       "      <th>Libro de Historia</th>\n",
       "      <th>Lápiz</th>\n",
       "      <th>Marcadores</th>\n",
       "      <th>Novela</th>\n",
       "      <th>Post-it</th>\n",
       "    </tr>\n",
       "  </thead>\n",
       "  <tbody>\n",
       "    <tr>\n",
       "      <th>0</th>\n",
       "      <td>True</td>\n",
       "      <td>False</td>\n",
       "      <td>False</td>\n",
       "      <td>False</td>\n",
       "      <td>False</td>\n",
       "      <td>True</td>\n",
       "      <td>True</td>\n",
       "      <td>False</td>\n",
       "    </tr>\n",
       "    <tr>\n",
       "      <th>1</th>\n",
       "      <td>False</td>\n",
       "      <td>True</td>\n",
       "      <td>True</td>\n",
       "      <td>False</td>\n",
       "      <td>True</td>\n",
       "      <td>False</td>\n",
       "      <td>False</td>\n",
       "      <td>False</td>\n",
       "    </tr>\n",
       "    <tr>\n",
       "      <th>2</th>\n",
       "      <td>True</td>\n",
       "      <td>False</td>\n",
       "      <td>False</td>\n",
       "      <td>False</td>\n",
       "      <td>True</td>\n",
       "      <td>False</td>\n",
       "      <td>True</td>\n",
       "      <td>False</td>\n",
       "    </tr>\n",
       "    <tr>\n",
       "      <th>3</th>\n",
       "      <td>False</td>\n",
       "      <td>False</td>\n",
       "      <td>False</td>\n",
       "      <td>True</td>\n",
       "      <td>False</td>\n",
       "      <td>True</td>\n",
       "      <td>False</td>\n",
       "      <td>True</td>\n",
       "    </tr>\n",
       "    <tr>\n",
       "      <th>4</th>\n",
       "      <td>False</td>\n",
       "      <td>True</td>\n",
       "      <td>False</td>\n",
       "      <td>False</td>\n",
       "      <td>True</td>\n",
       "      <td>False</td>\n",
       "      <td>False</td>\n",
       "      <td>True</td>\n",
       "    </tr>\n",
       "    <tr>\n",
       "      <th>5</th>\n",
       "      <td>True</td>\n",
       "      <td>False</td>\n",
       "      <td>True</td>\n",
       "      <td>False</td>\n",
       "      <td>False</td>\n",
       "      <td>False</td>\n",
       "      <td>True</td>\n",
       "      <td>False</td>\n",
       "    </tr>\n",
       "    <tr>\n",
       "      <th>6</th>\n",
       "      <td>False</td>\n",
       "      <td>True</td>\n",
       "      <td>False</td>\n",
       "      <td>True</td>\n",
       "      <td>False</td>\n",
       "      <td>False</td>\n",
       "      <td>False</td>\n",
       "      <td>False</td>\n",
       "    </tr>\n",
       "    <tr>\n",
       "      <th>7</th>\n",
       "      <td>True</td>\n",
       "      <td>False</td>\n",
       "      <td>False</td>\n",
       "      <td>False</td>\n",
       "      <td>False</td>\n",
       "      <td>True</td>\n",
       "      <td>False</td>\n",
       "      <td>True</td>\n",
       "    </tr>\n",
       "    <tr>\n",
       "      <th>8</th>\n",
       "      <td>False</td>\n",
       "      <td>False</td>\n",
       "      <td>False</td>\n",
       "      <td>False</td>\n",
       "      <td>True</td>\n",
       "      <td>False</td>\n",
       "      <td>True</td>\n",
       "      <td>False</td>\n",
       "    </tr>\n",
       "    <tr>\n",
       "      <th>9</th>\n",
       "      <td>False</td>\n",
       "      <td>True</td>\n",
       "      <td>True</td>\n",
       "      <td>False</td>\n",
       "      <td>False</td>\n",
       "      <td>False</td>\n",
       "      <td>False</td>\n",
       "      <td>True</td>\n",
       "    </tr>\n",
       "  </tbody>\n",
       "</table>\n",
       "</div>"
      ],
      "text/plain": [
       "    Café  Cuaderno  Libro de Ciencia  Libro de Historia  Lápiz  Marcadores  \\\n",
       "0   True     False             False              False  False        True   \n",
       "1  False      True              True              False   True       False   \n",
       "2   True     False             False              False   True       False   \n",
       "3  False     False             False               True  False        True   \n",
       "4  False      True             False              False   True       False   \n",
       "5   True     False              True              False  False       False   \n",
       "6  False      True             False               True  False       False   \n",
       "7   True     False             False              False  False        True   \n",
       "8  False     False             False              False   True       False   \n",
       "9  False      True              True              False  False       False   \n",
       "\n",
       "   Novela  Post-it  \n",
       "0    True    False  \n",
       "1   False    False  \n",
       "2    True    False  \n",
       "3   False     True  \n",
       "4   False     True  \n",
       "5    True    False  \n",
       "6   False    False  \n",
       "7   False     True  \n",
       "8    True    False  \n",
       "9   False     True  "
      ]
     },
     "execution_count": 4,
     "metadata": {},
     "output_type": "execute_result"
    }
   ],
   "source": [
    "te = TransactionEncoder()\n",
    "\n",
    "# Matriz booleana donde True indica la presencia del producto en la transacción\n",
    "matriz = te.fit(transacciones).transform(transacciones)\n",
    "\n",
    "df = pd.DataFrame(matriz, columns=te.columns_)\n",
    "\n",
    "print(\"\\nDataset Transormado (One-Hot Encoding): \\n\")\n",
    "print(df)"
   ]
  },
  {
   "cell_type": "markdown",
   "id": "ee6861f3",
   "metadata": {},
   "source": [
    "### Algoritmo Apriori. Items Frecuentes"
   ]
  },
  {
   "cell_type": "code",
   "execution_count": null,
   "id": "7431ac9f",
   "metadata": {},
   "outputs": [
    {
     "name": "stdout",
     "output_type": "stream",
     "text": [
      "\n",
      "Items Frecuentes (Soporte >= 30%): \n",
      "\n",
      "   support            itemsets\n",
      "0      0.4              (Café)\n",
      "1      0.4          (Cuaderno)\n",
      "3      0.4             (Lápiz)\n",
      "5      0.4            (Novela)\n",
      "6      0.4           (Post-it)\n",
      "2      0.3  (Libro de Ciencia)\n",
      "4      0.3        (Marcadores)\n",
      "7      0.3      (Novela, Café)\n",
      "\n",
      "\n",
      "Items de Tamaño 2 (Soporte >= 30%): \n"
     ]
    },
    {
     "data": {
      "text/html": [
       "<div>\n",
       "<style scoped>\n",
       "    .dataframe tbody tr th:only-of-type {\n",
       "        vertical-align: middle;\n",
       "    }\n",
       "\n",
       "    .dataframe tbody tr th {\n",
       "        vertical-align: top;\n",
       "    }\n",
       "\n",
       "    .dataframe thead th {\n",
       "        text-align: right;\n",
       "    }\n",
       "</style>\n",
       "<table border=\"1\" class=\"dataframe\">\n",
       "  <thead>\n",
       "    <tr style=\"text-align: right;\">\n",
       "      <th></th>\n",
       "      <th>support</th>\n",
       "      <th>itemsets</th>\n",
       "    </tr>\n",
       "  </thead>\n",
       "  <tbody>\n",
       "    <tr>\n",
       "      <th>7</th>\n",
       "      <td>0.3</td>\n",
       "      <td>(Novela, Café)</td>\n",
       "    </tr>\n",
       "  </tbody>\n",
       "</table>\n",
       "</div>"
      ],
      "text/plain": [
       "   support        itemsets\n",
       "7      0.3  (Novela, Café)"
      ]
     },
     "execution_count": 27,
     "metadata": {},
     "output_type": "execute_result"
    }
   ],
   "source": [
    "items_frecuentes = apriori(df, min_support=0.3, use_colnames=True)\n",
    "\n",
    "print(\"\\nItems Frecuentes (Soporte >= 30%): \\n\")\n",
    "print(items_frecuentes.sort_values('support', ascending=False))\n",
    "\n",
    "# Filtrar itemsets de tamaño 2\n",
    "itemsets_tamano_2 = items_frecuentes[items_frecuentes['itemsets'].apply(lambda x: len(x) == 2)]\n",
    "\n",
    "print(\"\\n\\nItems de Tamaño 2 (Soporte >= 30%): \")\n",
    "print(itemsets_tamano_2.sort_values('support', ascending=False))"
   ]
  },
  {
   "cell_type": "markdown",
   "id": "95014d17",
   "metadata": {},
   "source": [
    "### Reglas de Asociación"
   ]
  },
  {
   "cell_type": "code",
   "execution_count": null,
   "id": "a3deb088",
   "metadata": {},
   "outputs": [
    {
     "name": "stdout",
     "output_type": "stream",
     "text": [
      "\n",
      "Reglas de Asociación (Confianza >= 60%):\n",
      "\n"
     ]
    },
    {
     "data": {
      "text/html": [
       "<div>\n",
       "<style scoped>\n",
       "    .dataframe tbody tr th:only-of-type {\n",
       "        vertical-align: middle;\n",
       "    }\n",
       "\n",
       "    .dataframe tbody tr th {\n",
       "        vertical-align: top;\n",
       "    }\n",
       "\n",
       "    .dataframe thead th {\n",
       "        text-align: right;\n",
       "    }\n",
       "</style>\n",
       "<table border=\"1\" class=\"dataframe\">\n",
       "  <thead>\n",
       "    <tr style=\"text-align: right;\">\n",
       "      <th></th>\n",
       "      <th>antecedents</th>\n",
       "      <th>consequents</th>\n",
       "      <th>support</th>\n",
       "      <th>confidence</th>\n",
       "      <th>lift</th>\n",
       "    </tr>\n",
       "  </thead>\n",
       "  <tbody>\n",
       "    <tr>\n",
       "      <th>0</th>\n",
       "      <td>(Novela)</td>\n",
       "      <td>(Café)</td>\n",
       "      <td>0.3</td>\n",
       "      <td>0.75</td>\n",
       "      <td>1.875</td>\n",
       "    </tr>\n",
       "    <tr>\n",
       "      <th>1</th>\n",
       "      <td>(Café)</td>\n",
       "      <td>(Novela)</td>\n",
       "      <td>0.3</td>\n",
       "      <td>0.75</td>\n",
       "      <td>1.875</td>\n",
       "    </tr>\n",
       "  </tbody>\n",
       "</table>\n",
       "</div>"
      ],
      "text/plain": [
       "  antecedents consequents  support  confidence   lift\n",
       "0    (Novela)      (Café)      0.3        0.75  1.875\n",
       "1      (Café)    (Novela)      0.3        0.75  1.875"
      ]
     },
     "execution_count": 29,
     "metadata": {},
     "output_type": "execute_result"
    }
   ],
   "source": [
    "# Reglas con confianza mínima del 60%\n",
    "reglas = association_rules(items_frecuentes, metric=\"confidence\", min_threshold=0.6)\n",
    "\n",
    "#Filtramos reglas con lift > 1.2\n",
    "reglas = reglas[reglas['lift'] > 1.2]\n",
    "\n",
    "print(\"\\nReglas de Asociación (Confianza >= 60%):\\n\")\n",
    "print(reglas[['antecedents', 'consequents', 'support', 'confidence', 'lift']].sort_values('lift', ascending=False))"
   ]
  },
  {
   "cell_type": "markdown",
   "id": "688f7636",
   "metadata": {},
   "source": [
    "### Preguntas Clave. Basado en la regla con mayor lift:"
   ]
  },
  {
   "cell_type": "markdown",
   "id": "5b6d763f",
   "metadata": {},
   "source": [
    "##### ¿Qué productos recomendarías empaquetar juntos en una promoción?"
   ]
  },
  {
   "cell_type": "code",
   "execution_count": 30,
   "id": "93b0892b",
   "metadata": {},
   "outputs": [],
   "source": [
    "# Novela y Café, ya que comprar Novela aumenta la probabilidad de comprar \n",
    "# Café en un 87.5% respecto a lo normal.\n",
    "# Esto quiere decir que si se compra Novela, hay un 75% probable de comprar Café o viceversa."
   ]
  },
  {
   "cell_type": "markdown",
   "id": "86cd20fc",
   "metadata": {},
   "source": [
    "##### ¿Qué sección de la tienda podría reorganizarse para aumentar ventas cruzadas?"
   ]
  },
  {
   "cell_type": "code",
   "execution_count": 31,
   "id": "2dc8ea4c",
   "metadata": {},
   "outputs": [],
   "source": [
    "# La sección de novelas y la sección de café deberían ubicarse juntas o cerca para aumentar \n",
    "# las ventas cruzadas, ya que los clientes que compran novelas tienen alta probabilidad \n",
    "# de comprar café también."
   ]
  }
 ],
 "metadata": {
  "kernelspec": {
   "display_name": "Python 3",
   "language": "python",
   "name": "python3"
  },
  "language_info": {
   "codemirror_mode": {
    "name": "ipython",
    "version": 3
   },
   "file_extension": ".py",
   "mimetype": "text/x-python",
   "name": "python",
   "nbconvert_exporter": "python",
   "pygments_lexer": "ipython3",
   "version": "3.11.9"
  }
 },
 "nbformat": 4,
 "nbformat_minor": 5
}
