{
 "cells": [
  {
   "cell_type": "markdown",
   "id": "5934d620",
   "metadata": {},
   "source": [
    "#### Viernes 16 de mayo de 2025"
   ]
  },
  {
   "cell_type": "markdown",
   "id": "4cf288c0",
   "metadata": {},
   "source": [
    "## Reglas de Asociación. Algoritmo Apriori. Canasta Básica"
   ]
  },
  {
   "cell_type": "code",
   "execution_count": 2,
   "id": "006d9023",
   "metadata": {},
   "outputs": [],
   "source": [
    "import pandas as pd\n",
    "from mlxtend.frequent_patterns import apriori, association_rules\n",
    "from mlxtend.preprocessing import TransactionEncoder"
   ]
  },
  {
   "cell_type": "code",
   "execution_count": 3,
   "id": "8cbf5311",
   "metadata": {},
   "outputs": [
    {
     "name": "stdout",
     "output_type": "stream",
     "text": [
      "Dataset Original: \n",
      "\n",
      "Transacción 1: ['Pan', 'Leche']\n",
      "Transacción 2: ['Pan', 'Pañales', 'Cerveza']\n",
      "Transacción 3: ['Leche', 'Pañales']\n",
      "Transacción 4: ['Pan', 'Leche', 'Pañales', 'Huevos']\n",
      "Transacción 5: ['Huevos', 'Leche']\n",
      "Transacción 6: ['Pan', 'Huevos']\n",
      "Transacción 7: ['Pañales', 'Cerveza']\n",
      "Transacción 8: ['Pan', 'Leche', 'Huevos']\n"
     ]
    }
   ],
   "source": [
    "# Transacciones\n",
    "\n",
    "transacciones = [\n",
    "    ['Pan', 'Leche'],\n",
    "    ['Pan', 'Pañales', 'Cerveza'],\n",
    "    ['Leche', 'Pañales'],\n",
    "    ['Pan', 'Leche', 'Pañales', 'Huevos'],\n",
    "    ['Huevos', 'Leche'],\n",
    "    ['Pan', 'Huevos'],\n",
    "    ['Pañales', 'Cerveza'],\n",
    "    ['Pan', 'Leche', 'Huevos']\n",
    "]\n",
    "\n",
    "print(\"Dataset Original: \\n\")\n",
    "for i, transaccion in enumerate(transacciones, 1):\n",
    "    print(f\"Transacción {i}: {transaccion}\")"
   ]
  }
 ],
 "metadata": {
  "kernelspec": {
   "display_name": "Python 3",
   "language": "python",
   "name": "python3"
  },
  "language_info": {
   "codemirror_mode": {
    "name": "ipython",
    "version": 3
   },
   "file_extension": ".py",
   "mimetype": "text/x-python",
   "name": "python",
   "nbconvert_exporter": "python",
   "pygments_lexer": "ipython3",
   "version": "3.11.9"
  }
 },
 "nbformat": 4,
 "nbformat_minor": 5
}
