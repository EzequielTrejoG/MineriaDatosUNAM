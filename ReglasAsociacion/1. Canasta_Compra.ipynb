{
 "cells": [
  {
   "cell_type": "markdown",
   "id": "5934d620",
   "metadata": {},
   "source": [
    "#### Viernes 16 de mayo de 2025"
   ]
  },
  {
   "cell_type": "markdown",
   "id": "4cf288c0",
   "metadata": {},
   "source": [
    "## Reglas de Asociación. Algoritmo Apriori. Canasta Básica"
   ]
  }
 ],
 "metadata": {
  "language_info": {
   "name": "python"
  }
 },
 "nbformat": 4,
 "nbformat_minor": 5
}
