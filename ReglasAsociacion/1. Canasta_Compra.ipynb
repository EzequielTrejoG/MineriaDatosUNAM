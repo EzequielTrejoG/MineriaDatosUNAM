{
 "cells": [
  {
   "cell_type": "markdown",
   "id": "5934d620",
   "metadata": {},
   "source": [
    "#### Viernes 16 de mayo de 2025"
   ]
  },
  {
   "cell_type": "markdown",
   "id": "4cf288c0",
   "metadata": {},
   "source": [
    "## Reglas de Asociación. Algoritmo Apriori. Canasta Básica"
   ]
  },
  {
   "cell_type": "code",
   "execution_count": 83,
   "id": "006d9023",
   "metadata": {},
   "outputs": [],
   "source": [
    "import pandas as pd\n",
    "from mlxtend.frequent_patterns import apriori, association_rules\n",
    "from mlxtend.preprocessing import TransactionEncoder"
   ]
  },
  {
   "cell_type": "code",
   "execution_count": 84,
   "id": "8cbf5311",
   "metadata": {},
   "outputs": [
    {
     "name": "stdout",
     "output_type": "stream",
     "text": [
      "Dataset Original: \n",
      "\n",
      "Transacción 1: ['Pan', 'Leche']\n",
      "Transacción 2: ['Pan', 'Pañales', 'Cerveza']\n",
      "Transacción 3: ['Leche', 'Pañales']\n",
      "Transacción 4: ['Pan', 'Leche', 'Pañales', 'Huevos']\n",
      "Transacción 5: ['Huevos', 'Leche']\n",
      "Transacción 6: ['Pan', 'Huevos']\n",
      "Transacción 7: ['Pañales', 'Cerveza']\n",
      "Transacción 8: ['Pan', 'Leche', 'Huevos']\n"
     ]
    }
   ],
   "source": [
    "# Transacciones\n",
    "\n",
    "transacciones = [\n",
    "    ['Pan', 'Leche'],\n",
    "    ['Pan', 'Pañales', 'Cerveza'],\n",
    "    ['Leche', 'Pañales'],\n",
    "    ['Pan', 'Leche', 'Pañales', 'Huevos'],\n",
    "    ['Huevos', 'Leche'],\n",
    "    ['Pan', 'Huevos'],\n",
    "    ['Pañales', 'Cerveza'],\n",
    "    ['Pan', 'Leche', 'Huevos']\n",
    "]\n",
    "\n",
    "print(\"Dataset Original: \\n\")\n",
    "for i, transaccion in enumerate(transacciones, 1):\n",
    "    print(f\"Transacción {i}: {transaccion}\")"
   ]
  },
  {
   "cell_type": "markdown",
   "id": "1a9b74dc",
   "metadata": {},
   "source": [
    "### Preprocesamiento de Datos"
   ]
  },
  {
   "cell_type": "code",
   "execution_count": null,
   "id": "d4c6fee2",
   "metadata": {},
   "outputs": [
    {
     "name": "stdout",
     "output_type": "stream",
     "text": [
      "Dataset Transormado (One-Hot Encoding): \n",
      "\n"
     ]
    },
    {
     "data": {
      "text/html": [
       "<div>\n",
       "<style scoped>\n",
       "    .dataframe tbody tr th:only-of-type {\n",
       "        vertical-align: middle;\n",
       "    }\n",
       "\n",
       "    .dataframe tbody tr th {\n",
       "        vertical-align: top;\n",
       "    }\n",
       "\n",
       "    .dataframe thead th {\n",
       "        text-align: right;\n",
       "    }\n",
       "</style>\n",
       "<table border=\"1\" class=\"dataframe\">\n",
       "  <thead>\n",
       "    <tr style=\"text-align: right;\">\n",
       "      <th></th>\n",
       "      <th>Cerveza</th>\n",
       "      <th>Huevos</th>\n",
       "      <th>Leche</th>\n",
       "      <th>Pan</th>\n",
       "      <th>Pañales</th>\n",
       "    </tr>\n",
       "  </thead>\n",
       "  <tbody>\n",
       "    <tr>\n",
       "      <th>0</th>\n",
       "      <td>False</td>\n",
       "      <td>False</td>\n",
       "      <td>True</td>\n",
       "      <td>True</td>\n",
       "      <td>False</td>\n",
       "    </tr>\n",
       "    <tr>\n",
       "      <th>1</th>\n",
       "      <td>True</td>\n",
       "      <td>False</td>\n",
       "      <td>False</td>\n",
       "      <td>True</td>\n",
       "      <td>True</td>\n",
       "    </tr>\n",
       "    <tr>\n",
       "      <th>2</th>\n",
       "      <td>False</td>\n",
       "      <td>False</td>\n",
       "      <td>True</td>\n",
       "      <td>False</td>\n",
       "      <td>True</td>\n",
       "    </tr>\n",
       "    <tr>\n",
       "      <th>3</th>\n",
       "      <td>False</td>\n",
       "      <td>True</td>\n",
       "      <td>True</td>\n",
       "      <td>True</td>\n",
       "      <td>True</td>\n",
       "    </tr>\n",
       "    <tr>\n",
       "      <th>4</th>\n",
       "      <td>False</td>\n",
       "      <td>True</td>\n",
       "      <td>True</td>\n",
       "      <td>False</td>\n",
       "      <td>False</td>\n",
       "    </tr>\n",
       "    <tr>\n",
       "      <th>5</th>\n",
       "      <td>False</td>\n",
       "      <td>True</td>\n",
       "      <td>False</td>\n",
       "      <td>True</td>\n",
       "      <td>False</td>\n",
       "    </tr>\n",
       "    <tr>\n",
       "      <th>6</th>\n",
       "      <td>True</td>\n",
       "      <td>False</td>\n",
       "      <td>False</td>\n",
       "      <td>False</td>\n",
       "      <td>True</td>\n",
       "    </tr>\n",
       "    <tr>\n",
       "      <th>7</th>\n",
       "      <td>False</td>\n",
       "      <td>True</td>\n",
       "      <td>True</td>\n",
       "      <td>True</td>\n",
       "      <td>False</td>\n",
       "    </tr>\n",
       "  </tbody>\n",
       "</table>\n",
       "</div>"
      ],
      "text/plain": [
       "   Cerveza  Huevos  Leche    Pan  Pañales\n",
       "0    False   False   True   True    False\n",
       "1     True   False  False   True     True\n",
       "2    False   False   True  False     True\n",
       "3    False    True   True   True     True\n",
       "4    False    True   True  False    False\n",
       "5    False    True  False   True    False\n",
       "6     True   False  False  False     True\n",
       "7    False    True   True   True    False"
      ]
     },
     "execution_count": 86,
     "metadata": {},
     "output_type": "execute_result"
    }
   ],
   "source": [
    "te = TransactionEncoder()\n",
    "\n",
    "# Matriz booleana donde True indica la presencia del producto en la transacción\n",
    "matriz = te.fit(transacciones).transform(transacciones)\n",
    "\n",
    "df = pd.DataFrame(matriz, columns=te.columns_)\n",
    "\n",
    "print(\"Dataset Transormado (One-Hot Encoding): \\n\")\n",
    "print(df)"
   ]
  },
  {
   "cell_type": "markdown",
   "id": "ee6861f3",
   "metadata": {},
   "source": [
    "### Algoritmo Apriori. Items Frecuentes"
   ]
  },
  {
   "cell_type": "code",
   "execution_count": null,
   "id": "7431ac9f",
   "metadata": {},
   "outputs": [
    {
     "name": "stdout",
     "output_type": "stream",
     "text": [
      "Items Frecuentes (Soporte >= 30%): \n",
      "\n"
     ]
    },
    {
     "data": {
      "text/html": [
       "<div>\n",
       "<style scoped>\n",
       "    .dataframe tbody tr th:only-of-type {\n",
       "        vertical-align: middle;\n",
       "    }\n",
       "\n",
       "    .dataframe tbody tr th {\n",
       "        vertical-align: top;\n",
       "    }\n",
       "\n",
       "    .dataframe thead th {\n",
       "        text-align: right;\n",
       "    }\n",
       "</style>\n",
       "<table border=\"1\" class=\"dataframe\">\n",
       "  <thead>\n",
       "    <tr style=\"text-align: right;\">\n",
       "      <th></th>\n",
       "      <th>support</th>\n",
       "      <th>itemsets</th>\n",
       "    </tr>\n",
       "  </thead>\n",
       "  <tbody>\n",
       "    <tr>\n",
       "      <th>1</th>\n",
       "      <td>0.625</td>\n",
       "      <td>(Leche)</td>\n",
       "    </tr>\n",
       "    <tr>\n",
       "      <th>2</th>\n",
       "      <td>0.625</td>\n",
       "      <td>(Pan)</td>\n",
       "    </tr>\n",
       "    <tr>\n",
       "      <th>0</th>\n",
       "      <td>0.500</td>\n",
       "      <td>(Huevos)</td>\n",
       "    </tr>\n",
       "    <tr>\n",
       "      <th>3</th>\n",
       "      <td>0.500</td>\n",
       "      <td>(Pañales)</td>\n",
       "    </tr>\n",
       "    <tr>\n",
       "      <th>4</th>\n",
       "      <td>0.375</td>\n",
       "      <td>(Huevos, Leche)</td>\n",
       "    </tr>\n",
       "    <tr>\n",
       "      <th>5</th>\n",
       "      <td>0.375</td>\n",
       "      <td>(Pan, Huevos)</td>\n",
       "    </tr>\n",
       "    <tr>\n",
       "      <th>6</th>\n",
       "      <td>0.375</td>\n",
       "      <td>(Pan, Leche)</td>\n",
       "    </tr>\n",
       "  </tbody>\n",
       "</table>\n",
       "</div>"
      ],
      "text/plain": [
       "   support         itemsets\n",
       "1    0.625          (Leche)\n",
       "2    0.625            (Pan)\n",
       "0    0.500         (Huevos)\n",
       "3    0.500        (Pañales)\n",
       "4    0.375  (Huevos, Leche)\n",
       "5    0.375    (Pan, Huevos)\n",
       "6    0.375     (Pan, Leche)"
      ]
     },
     "execution_count": 93,
     "metadata": {},
     "output_type": "execute_result"
    }
   ],
   "source": [
    "items_frecuentes = apriori(df, min_support=0.3, use_colnames=True)\n",
    "\n",
    "print(\"Items Frecuentes (Soporte >= 30%): \\n\")\n",
    "print(items_frecuentes.sort_values('support', ascending=False))"
   ]
  },
  {
   "cell_type": "markdown",
   "id": "95014d17",
   "metadata": {},
   "source": [
    "### Reglas de Asociación"
   ]
  },
  {
   "cell_type": "code",
   "execution_count": null,
   "id": "a3deb088",
   "metadata": {},
   "outputs": [
    {
     "name": "stdout",
     "output_type": "stream",
     "text": [
      "\n",
      "Reglas de Asociación (Confianza >= 60%):\n",
      "\n"
     ]
    },
    {
     "data": {
      "text/html": [
       "<div>\n",
       "<style scoped>\n",
       "    .dataframe tbody tr th:only-of-type {\n",
       "        vertical-align: middle;\n",
       "    }\n",
       "\n",
       "    .dataframe tbody tr th {\n",
       "        vertical-align: top;\n",
       "    }\n",
       "\n",
       "    .dataframe thead th {\n",
       "        text-align: right;\n",
       "    }\n",
       "</style>\n",
       "<table border=\"1\" class=\"dataframe\">\n",
       "  <thead>\n",
       "    <tr style=\"text-align: right;\">\n",
       "      <th></th>\n",
       "      <th>antecedents</th>\n",
       "      <th>consequents</th>\n",
       "      <th>support</th>\n",
       "      <th>confidence</th>\n",
       "      <th>lift</th>\n",
       "    </tr>\n",
       "  </thead>\n",
       "  <tbody>\n",
       "    <tr>\n",
       "      <th>0</th>\n",
       "      <td>(Huevos)</td>\n",
       "      <td>(Leche)</td>\n",
       "      <td>0.375</td>\n",
       "      <td>0.75</td>\n",
       "      <td>1.2</td>\n",
       "    </tr>\n",
       "    <tr>\n",
       "      <th>1</th>\n",
       "      <td>(Leche)</td>\n",
       "      <td>(Huevos)</td>\n",
       "      <td>0.375</td>\n",
       "      <td>0.60</td>\n",
       "      <td>1.2</td>\n",
       "    </tr>\n",
       "    <tr>\n",
       "      <th>2</th>\n",
       "      <td>(Pan)</td>\n",
       "      <td>(Huevos)</td>\n",
       "      <td>0.375</td>\n",
       "      <td>0.60</td>\n",
       "      <td>1.2</td>\n",
       "    </tr>\n",
       "    <tr>\n",
       "      <th>3</th>\n",
       "      <td>(Huevos)</td>\n",
       "      <td>(Pan)</td>\n",
       "      <td>0.375</td>\n",
       "      <td>0.75</td>\n",
       "      <td>1.2</td>\n",
       "    </tr>\n",
       "  </tbody>\n",
       "</table>\n",
       "</div>"
      ],
      "text/plain": [
       "  antecedents consequents  support  confidence  lift\n",
       "0    (Huevos)     (Leche)    0.375        0.75   1.2\n",
       "1     (Leche)    (Huevos)    0.375        0.60   1.2\n",
       "2       (Pan)    (Huevos)    0.375        0.60   1.2\n",
       "3    (Huevos)       (Pan)    0.375        0.75   1.2"
      ]
     },
     "execution_count": 97,
     "metadata": {},
     "output_type": "execute_result"
    }
   ],
   "source": [
    "# Reglas con confianza mínima del 60%\n",
    "reglas = association_rules(items_frecuentes, metric=\"confidence\", min_threshold=0.6)\n",
    "\n",
    "#Filtramos reglas con lift > 1\n",
    "reglas = reglas[reglas['lift'] > 1]\n",
    "\n",
    "print(\"\\nReglas de Asociación (Confianza >= 60%):\\n\")\n",
    "print(reglas[['antecedents', 'consequents', 'support', 'confidence', 'lift']].sort_values('lift', ascending=False))"
   ]
  },
  {
   "cell_type": "markdown",
   "id": "688f7636",
   "metadata": {},
   "source": [
    "### Pregunta Clave"
   ]
  },
  {
   "cell_type": "markdown",
   "id": "5b6d763f",
   "metadata": {},
   "source": [
    "#### ¿Qué producto está más asociado a \"Pan\"? Usa el lift como criterio.\n",
    "\n",
    "##### Pan aparece como antecedente y como consecuente en dos reglas, ambos tienen un lift de 1.2, entonces el producto más asociado es Huevos. Esto significa que comprar Pan aumenta la probabilidad de comprar Huevos en un 20% respecto a lo normal."
   ]
  }
 ],
 "metadata": {
  "kernelspec": {
   "display_name": "Python 3",
   "language": "python",
   "name": "python3"
  },
  "language_info": {
   "codemirror_mode": {
    "name": "ipython",
    "version": 3
   },
   "file_extension": ".py",
   "mimetype": "text/x-python",
   "name": "python",
   "nbconvert_exporter": "python",
   "pygments_lexer": "ipython3",
   "version": "3.11.9"
  }
 },
 "nbformat": 4,
 "nbformat_minor": 5
}
