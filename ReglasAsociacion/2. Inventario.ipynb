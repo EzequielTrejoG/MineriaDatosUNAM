{
 "cells": [
  {
   "cell_type": "markdown",
   "id": "5934d620",
   "metadata": {},
   "source": [
    "#### Viernes 16 de mayo de 2025"
   ]
  },
  {
   "cell_type": "markdown",
   "id": "4cf288c0",
   "metadata": {},
   "source": [
    "## Reglas de Asociación. Algoritmo Apriori. Optimización de Inventario"
   ]
  },
  {
   "cell_type": "code",
   "execution_count": 3,
   "id": "006d9023",
   "metadata": {},
   "outputs": [],
   "source": [
    "import pandas as pd\n",
    "from mlxtend.frequent_patterns import apriori, association_rules\n",
    "from mlxtend.preprocessing import TransactionEncoder"
   ]
  },
  {
   "cell_type": "markdown",
   "id": "bb0e18ef",
   "metadata": {},
   "source": [
    "#### Contexto: En Farmacia Saludable, quieren reducir desperdicios analizando compras conjuntas:"
   ]
  },
  {
   "cell_type": "code",
   "execution_count": 4,
   "id": "8cbf5311",
   "metadata": {},
   "outputs": [
    {
     "name": "stdout",
     "output_type": "stream",
     "text": [
      "Dataset Original: \n",
      "\n",
      "Transacción 1: ['Analgésico', 'Jarabe', 'Curitas']\n",
      "Transacción 2: ['Termómetro', 'Jarabe']\n",
      "Transacción 3: ['Analgésico', 'Termómetro', 'Alcohol']\n",
      "Transacción 4: ['Jarabe', 'Alcohol', 'Curitas']\n",
      "Transacción 5: ['Analgésico', 'Jarabe']\n",
      "Transacción 6: ['Termómetro', 'Curitas']\n",
      "Transacción 7: ['Analgésico', 'Alcohol']\n"
     ]
    }
   ],
   "source": [
    "# Transacciones\n",
    "\n",
    "transacciones = [\n",
    "    ['Analgésico', 'Jarabe', 'Curitas'],\n",
    "    ['Termómetro', 'Jarabe'],\n",
    "    ['Analgésico', 'Termómetro', 'Alcohol'],\n",
    "    ['Jarabe', 'Alcohol', 'Curitas'],\n",
    "    ['Analgésico', 'Jarabe'],\n",
    "    ['Termómetro', 'Curitas'],\n",
    "    ['Analgésico', 'Alcohol']\n",
    "]\n",
    "\n",
    "print(\"Dataset Original: \\n\")\n",
    "for i, transaccion in enumerate(transacciones, 1):\n",
    "    print(f\"Transacción {i}: {transaccion}\")"
   ]
  },
  {
   "cell_type": "markdown",
   "id": "1a9b74dc",
   "metadata": {},
   "source": [
    "### Preprocesamiento de Datos"
   ]
  },
  {
   "cell_type": "code",
   "execution_count": null,
   "id": "d4c6fee2",
   "metadata": {},
   "outputs": [
    {
     "name": "stdout",
     "output_type": "stream",
     "text": [
      "\n",
      "Dataset Transormado (One-Hot Encoding): \n",
      "\n"
     ]
    },
    {
     "data": {
      "text/html": [
       "<div>\n",
       "<style scoped>\n",
       "    .dataframe tbody tr th:only-of-type {\n",
       "        vertical-align: middle;\n",
       "    }\n",
       "\n",
       "    .dataframe tbody tr th {\n",
       "        vertical-align: top;\n",
       "    }\n",
       "\n",
       "    .dataframe thead th {\n",
       "        text-align: right;\n",
       "    }\n",
       "</style>\n",
       "<table border=\"1\" class=\"dataframe\">\n",
       "  <thead>\n",
       "    <tr style=\"text-align: right;\">\n",
       "      <th></th>\n",
       "      <th>Alcohol</th>\n",
       "      <th>Analgésico</th>\n",
       "      <th>Curitas</th>\n",
       "      <th>Jarabe</th>\n",
       "      <th>Termómetro</th>\n",
       "    </tr>\n",
       "  </thead>\n",
       "  <tbody>\n",
       "    <tr>\n",
       "      <th>0</th>\n",
       "      <td>False</td>\n",
       "      <td>True</td>\n",
       "      <td>True</td>\n",
       "      <td>True</td>\n",
       "      <td>False</td>\n",
       "    </tr>\n",
       "    <tr>\n",
       "      <th>1</th>\n",
       "      <td>False</td>\n",
       "      <td>False</td>\n",
       "      <td>False</td>\n",
       "      <td>True</td>\n",
       "      <td>True</td>\n",
       "    </tr>\n",
       "    <tr>\n",
       "      <th>2</th>\n",
       "      <td>True</td>\n",
       "      <td>True</td>\n",
       "      <td>False</td>\n",
       "      <td>False</td>\n",
       "      <td>True</td>\n",
       "    </tr>\n",
       "    <tr>\n",
       "      <th>3</th>\n",
       "      <td>True</td>\n",
       "      <td>False</td>\n",
       "      <td>True</td>\n",
       "      <td>True</td>\n",
       "      <td>False</td>\n",
       "    </tr>\n",
       "    <tr>\n",
       "      <th>4</th>\n",
       "      <td>False</td>\n",
       "      <td>True</td>\n",
       "      <td>False</td>\n",
       "      <td>True</td>\n",
       "      <td>False</td>\n",
       "    </tr>\n",
       "    <tr>\n",
       "      <th>5</th>\n",
       "      <td>False</td>\n",
       "      <td>False</td>\n",
       "      <td>True</td>\n",
       "      <td>False</td>\n",
       "      <td>True</td>\n",
       "    </tr>\n",
       "    <tr>\n",
       "      <th>6</th>\n",
       "      <td>True</td>\n",
       "      <td>True</td>\n",
       "      <td>False</td>\n",
       "      <td>False</td>\n",
       "      <td>False</td>\n",
       "    </tr>\n",
       "  </tbody>\n",
       "</table>\n",
       "</div>"
      ],
      "text/plain": [
       "   Alcohol  Analgésico  Curitas  Jarabe  Termómetro\n",
       "0    False        True     True    True       False\n",
       "1    False       False    False    True        True\n",
       "2     True        True    False   False        True\n",
       "3     True       False     True    True       False\n",
       "4    False        True    False    True       False\n",
       "5    False       False     True   False        True\n",
       "6     True        True    False   False       False"
      ]
     },
     "execution_count": 35,
     "metadata": {},
     "output_type": "execute_result"
    }
   ],
   "source": [
    "te = TransactionEncoder()\n",
    "\n",
    "# Matriz booleana donde True indica la presencia del producto en la transacción\n",
    "matriz = te.fit(transacciones).transform(transacciones)\n",
    "\n",
    "df = pd.DataFrame(matriz, columns=te.columns_)\n",
    "\n",
    "print(\"\\nDataset Transormado (One-Hot Encoding): \\n\")\n",
    "print(df)"
   ]
  },
  {
   "cell_type": "markdown",
   "id": "ee6861f3",
   "metadata": {},
   "source": [
    "### Algoritmo Apriori. Items Frecuentes"
   ]
  },
  {
   "cell_type": "code",
   "execution_count": null,
   "id": "7431ac9f",
   "metadata": {},
   "outputs": [
    {
     "name": "stdout",
     "output_type": "stream",
     "text": [
      "\n",
      "Items Frecuentes (Soporte >= 20%): \n",
      "\n"
     ]
    },
    {
     "data": {
      "text/html": [
       "<div>\n",
       "<style scoped>\n",
       "    .dataframe tbody tr th:only-of-type {\n",
       "        vertical-align: middle;\n",
       "    }\n",
       "\n",
       "    .dataframe tbody tr th {\n",
       "        vertical-align: top;\n",
       "    }\n",
       "\n",
       "    .dataframe thead th {\n",
       "        text-align: right;\n",
       "    }\n",
       "</style>\n",
       "<table border=\"1\" class=\"dataframe\">\n",
       "  <thead>\n",
       "    <tr style=\"text-align: right;\">\n",
       "      <th></th>\n",
       "      <th>support</th>\n",
       "      <th>itemsets</th>\n",
       "    </tr>\n",
       "  </thead>\n",
       "  <tbody>\n",
       "    <tr>\n",
       "      <th>1</th>\n",
       "      <td>0.571429</td>\n",
       "      <td>(Analgésico)</td>\n",
       "    </tr>\n",
       "    <tr>\n",
       "      <th>3</th>\n",
       "      <td>0.571429</td>\n",
       "      <td>(Jarabe)</td>\n",
       "    </tr>\n",
       "    <tr>\n",
       "      <th>0</th>\n",
       "      <td>0.428571</td>\n",
       "      <td>(Alcohol)</td>\n",
       "    </tr>\n",
       "    <tr>\n",
       "      <th>2</th>\n",
       "      <td>0.428571</td>\n",
       "      <td>(Curitas)</td>\n",
       "    </tr>\n",
       "    <tr>\n",
       "      <th>4</th>\n",
       "      <td>0.428571</td>\n",
       "      <td>(Termómetro)</td>\n",
       "    </tr>\n",
       "    <tr>\n",
       "      <th>5</th>\n",
       "      <td>0.285714</td>\n",
       "      <td>(Analgésico, Alcohol)</td>\n",
       "    </tr>\n",
       "    <tr>\n",
       "      <th>6</th>\n",
       "      <td>0.285714</td>\n",
       "      <td>(Analgésico, Jarabe)</td>\n",
       "    </tr>\n",
       "    <tr>\n",
       "      <th>7</th>\n",
       "      <td>0.285714</td>\n",
       "      <td>(Jarabe, Curitas)</td>\n",
       "    </tr>\n",
       "  </tbody>\n",
       "</table>\n",
       "</div>"
      ],
      "text/plain": [
       "    support               itemsets\n",
       "1  0.571429           (Analgésico)\n",
       "3  0.571429               (Jarabe)\n",
       "0  0.428571              (Alcohol)\n",
       "2  0.428571              (Curitas)\n",
       "4  0.428571           (Termómetro)\n",
       "5  0.285714  (Analgésico, Alcohol)\n",
       "6  0.285714   (Analgésico, Jarabe)\n",
       "7  0.285714      (Jarabe, Curitas)"
      ]
     },
     "execution_count": 36,
     "metadata": {},
     "output_type": "execute_result"
    }
   ],
   "source": [
    "items_frecuentes = apriori(df, min_support=0.2, use_colnames=True)\n",
    "\n",
    "print(\"\\nItems Frecuentes (Soporte >= 20%): \\n\")\n",
    "print(items_frecuentes.sort_values('support', ascending=False))"
   ]
  },
  {
   "cell_type": "markdown",
   "id": "95014d17",
   "metadata": {},
   "source": [
    "### Reglas de Asociación"
   ]
  },
  {
   "cell_type": "code",
   "execution_count": null,
   "id": "a3deb088",
   "metadata": {},
   "outputs": [
    {
     "name": "stdout",
     "output_type": "stream",
     "text": [
      "\n",
      "Reglas de Asociación (Confianza >= 50%):\n",
      "\n"
     ]
    },
    {
     "data": {
      "text/html": [
       "<div>\n",
       "<style scoped>\n",
       "    .dataframe tbody tr th:only-of-type {\n",
       "        vertical-align: middle;\n",
       "    }\n",
       "\n",
       "    .dataframe tbody tr th {\n",
       "        vertical-align: top;\n",
       "    }\n",
       "\n",
       "    .dataframe thead th {\n",
       "        text-align: right;\n",
       "    }\n",
       "</style>\n",
       "<table border=\"1\" class=\"dataframe\">\n",
       "  <thead>\n",
       "    <tr style=\"text-align: right;\">\n",
       "      <th></th>\n",
       "      <th>antecedents</th>\n",
       "      <th>consequents</th>\n",
       "      <th>support</th>\n",
       "      <th>confidence</th>\n",
       "      <th>lift</th>\n",
       "    </tr>\n",
       "  </thead>\n",
       "  <tbody>\n",
       "    <tr>\n",
       "      <th>0</th>\n",
       "      <td>(Analgésico)</td>\n",
       "      <td>(Alcohol)</td>\n",
       "      <td>0.285714</td>\n",
       "      <td>0.500000</td>\n",
       "      <td>1.166667</td>\n",
       "    </tr>\n",
       "    <tr>\n",
       "      <th>1</th>\n",
       "      <td>(Alcohol)</td>\n",
       "      <td>(Analgésico)</td>\n",
       "      <td>0.285714</td>\n",
       "      <td>0.666667</td>\n",
       "      <td>1.166667</td>\n",
       "    </tr>\n",
       "    <tr>\n",
       "      <th>4</th>\n",
       "      <td>(Jarabe)</td>\n",
       "      <td>(Curitas)</td>\n",
       "      <td>0.285714</td>\n",
       "      <td>0.500000</td>\n",
       "      <td>1.166667</td>\n",
       "    </tr>\n",
       "    <tr>\n",
       "      <th>5</th>\n",
       "      <td>(Curitas)</td>\n",
       "      <td>(Jarabe)</td>\n",
       "      <td>0.285714</td>\n",
       "      <td>0.666667</td>\n",
       "      <td>1.166667</td>\n",
       "    </tr>\n",
       "  </tbody>\n",
       "</table>\n",
       "</div>"
      ],
      "text/plain": [
       "    antecedents   consequents   support  confidence      lift\n",
       "0  (Analgésico)     (Alcohol)  0.285714    0.500000  1.166667\n",
       "1     (Alcohol)  (Analgésico)  0.285714    0.666667  1.166667\n",
       "4      (Jarabe)     (Curitas)  0.285714    0.500000  1.166667\n",
       "5     (Curitas)      (Jarabe)  0.285714    0.666667  1.166667"
      ]
     },
     "execution_count": 37,
     "metadata": {},
     "output_type": "execute_result"
    }
   ],
   "source": [
    "# Reglas con confianza mínima del 50%\n",
    "reglas = association_rules(items_frecuentes, metric=\"confidence\", min_threshold=0.5)\n",
    "\n",
    "#Filtramos reglas con lift > 1\n",
    "reglas = reglas[reglas['lift'] > 1]\n",
    "\n",
    "print(\"\\nReglas de Asociación (Confianza >= 50%):\\n\")\n",
    "print(reglas[['antecedents', 'consequents', 'support', 'confidence', 'lift']].sort_values('lift', ascending=False))"
   ]
  },
  {
   "cell_type": "markdown",
   "id": "688f7636",
   "metadata": {},
   "source": [
    "### Pregunta Clave"
   ]
  },
  {
   "cell_type": "markdown",
   "id": "5b6d763f",
   "metadata": {},
   "source": [
    "#### Si un cliente compra Jarabe, ¿qué otro producto tiene mayor probabilidad de comprar? "
   ]
  },
  {
   "cell_type": "code",
   "execution_count": 38,
   "id": "93b0892b",
   "metadata": {},
   "outputs": [],
   "source": [
    "# De acuerdo a las reglas generadas se tiene un 50% de probabilidad de comprar Curitas "
   ]
  },
  {
   "cell_type": "markdown",
   "id": "86cd20fc",
   "metadata": {},
   "source": [
    "#### ¿Qué par de productos debería colocarse juntos en el estante? Justifica con lift."
   ]
  },
  {
   "cell_type": "code",
   "execution_count": 39,
   "id": "2dc8ea4c",
   "metadata": {},
   "outputs": [],
   "source": [
    "# Alcohol y Analgésico, con una probabilidad del 66.66% de que al comprar Alcohol, se compre Analgésico.\n",
    "# Esto significa que comprar Alcohol aumenta la probabilidad de comprar Analgésico en un 16.6% respecto a lo normal.\n",
    "# Además:\n",
    "# Curitas y jarabe, con una probabilidad del 66.66% de que al comprar curitas, se compre jarabe.\n",
    "# Esto significa que comprar Curitas aumenta la probabilidad de comprar jarabe en un 16.6% respecto a lo normal."
   ]
  }
 ],
 "metadata": {
  "kernelspec": {
   "display_name": "Python 3",
   "language": "python",
   "name": "python3"
  },
  "language_info": {
   "codemirror_mode": {
    "name": "ipython",
    "version": 3
   },
   "file_extension": ".py",
   "mimetype": "text/x-python",
   "name": "python",
   "nbconvert_exporter": "python",
   "pygments_lexer": "ipython3",
   "version": "3.11.9"
  }
 },
 "nbformat": 4,
 "nbformat_minor": 5
}
