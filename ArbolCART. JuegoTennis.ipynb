{
 "cells": [
  {
   "cell_type": "markdown",
   "id": "a7e995b8",
   "metadata": {},
   "source": [
    "#### Viernes 25 de Abril de 2025"
   ]
  },
  {
   "cell_type": "markdown",
   "id": "62d0b649",
   "metadata": {},
   "source": [
    "## Árbol de Decisión CART. ¿Jugar o no Jugar?"
   ]
  },
  {
   "cell_type": "markdown",
   "id": "f217c79f",
   "metadata": {},
   "source": [
    "#### Librerías"
   ]
  },
  {
   "cell_type": "code",
   "execution_count": 7,
   "id": "fe426953",
   "metadata": {},
   "outputs": [],
   "source": [
    "import pandas as pd\n",
    "from sklearn.tree import DecisionTreeClassifier, plot_tree # Para crear el árbol de decisión\n",
    "from sklearn.model_selection import train_test_split # Para dividir los datos en conjuntos de entrenamiento y prueba\n",
    "from sklearn.metrics import accuracy_score # Para calcular la precisión del modelo\n",
    "from sklearn.preprocessing import LabelEncoder # Para normalizar los datos (Convertir categorías a números)\n",
    "import matplotlib.pyplot as plt"
   ]
  },
  {
   "cell_type": "markdown",
   "id": "16bb6869",
   "metadata": {},
   "source": [
    "#### Carga de datos"
   ]
  },
  {
   "cell_type": "code",
   "execution_count": 8,
   "id": "23e3d3c9",
   "metadata": {},
   "outputs": [
    {
     "name": "stdout",
     "output_type": "stream",
     "text": [
      "Dataset original:\n"
     ]
    },
    {
     "data": {
      "text/html": [
       "<div>\n",
       "<style scoped>\n",
       "    .dataframe tbody tr th:only-of-type {\n",
       "        vertical-align: middle;\n",
       "    }\n",
       "\n",
       "    .dataframe tbody tr th {\n",
       "        vertical-align: top;\n",
       "    }\n",
       "\n",
       "    .dataframe thead th {\n",
       "        text-align: right;\n",
       "    }\n",
       "</style>\n",
       "<table border=\"1\" class=\"dataframe\">\n",
       "  <thead>\n",
       "    <tr style=\"text-align: right;\">\n",
       "      <th></th>\n",
       "      <th>Cielo</th>\n",
       "      <th>Humedad</th>\n",
       "      <th>Viento</th>\n",
       "      <th>Jugar</th>\n",
       "    </tr>\n",
       "  </thead>\n",
       "  <tbody>\n",
       "    <tr>\n",
       "      <th>0</th>\n",
       "      <td>Soleado</td>\n",
       "      <td>Alta</td>\n",
       "      <td>Débil</td>\n",
       "      <td>No</td>\n",
       "    </tr>\n",
       "    <tr>\n",
       "      <th>1</th>\n",
       "      <td>Soleado</td>\n",
       "      <td>Alta</td>\n",
       "      <td>Fuerte</td>\n",
       "      <td>No</td>\n",
       "    </tr>\n",
       "    <tr>\n",
       "      <th>2</th>\n",
       "      <td>Nublado</td>\n",
       "      <td>Alta</td>\n",
       "      <td>Débil</td>\n",
       "      <td>Sí</td>\n",
       "    </tr>\n",
       "    <tr>\n",
       "      <th>3</th>\n",
       "      <td>Lluvioso</td>\n",
       "      <td>Normal</td>\n",
       "      <td>Débil</td>\n",
       "      <td>Sí</td>\n",
       "    </tr>\n",
       "    <tr>\n",
       "      <th>4</th>\n",
       "      <td>Lluvioso</td>\n",
       "      <td>Normal</td>\n",
       "      <td>Fuerte</td>\n",
       "      <td>No</td>\n",
       "    </tr>\n",
       "    <tr>\n",
       "      <th>5</th>\n",
       "      <td>Lluvioso</td>\n",
       "      <td>Alta</td>\n",
       "      <td>Débil</td>\n",
       "      <td>Sí</td>\n",
       "    </tr>\n",
       "    <tr>\n",
       "      <th>6</th>\n",
       "      <td>Nublado</td>\n",
       "      <td>Normal</td>\n",
       "      <td>Fuerte</td>\n",
       "      <td>Sí</td>\n",
       "    </tr>\n",
       "    <tr>\n",
       "      <th>7</th>\n",
       "      <td>Soleado</td>\n",
       "      <td>Alta</td>\n",
       "      <td>Débil</td>\n",
       "      <td>No</td>\n",
       "    </tr>\n",
       "    <tr>\n",
       "      <th>8</th>\n",
       "      <td>Soleado</td>\n",
       "      <td>Normal</td>\n",
       "      <td>Débil</td>\n",
       "      <td>Sí</td>\n",
       "    </tr>\n",
       "    <tr>\n",
       "      <th>9</th>\n",
       "      <td>Lluvioso</td>\n",
       "      <td>Normal</td>\n",
       "      <td>Débil</td>\n",
       "      <td>Sí</td>\n",
       "    </tr>\n",
       "    <tr>\n",
       "      <th>10</th>\n",
       "      <td>Soleado</td>\n",
       "      <td>Normal</td>\n",
       "      <td>Fuerte</td>\n",
       "      <td>Sí</td>\n",
       "    </tr>\n",
       "    <tr>\n",
       "      <th>11</th>\n",
       "      <td>Nublado</td>\n",
       "      <td>Alta</td>\n",
       "      <td>Fuerte</td>\n",
       "      <td>Sí</td>\n",
       "    </tr>\n",
       "    <tr>\n",
       "      <th>12</th>\n",
       "      <td>Nublado</td>\n",
       "      <td>Normal</td>\n",
       "      <td>Débil</td>\n",
       "      <td>Sí</td>\n",
       "    </tr>\n",
       "    <tr>\n",
       "      <th>13</th>\n",
       "      <td>Lluvioso</td>\n",
       "      <td>Alta</td>\n",
       "      <td>Fuerte</td>\n",
       "      <td>No</td>\n",
       "    </tr>\n",
       "  </tbody>\n",
       "</table>\n",
       "</div>"
      ],
      "text/plain": [
       "       Cielo Humedad  Viento Jugar\n",
       "0    Soleado    Alta   Débil    No\n",
       "1    Soleado    Alta  Fuerte    No\n",
       "2    Nublado    Alta   Débil    Sí\n",
       "3   Lluvioso  Normal   Débil    Sí\n",
       "4   Lluvioso  Normal  Fuerte    No\n",
       "5   Lluvioso    Alta   Débil    Sí\n",
       "6    Nublado  Normal  Fuerte    Sí\n",
       "7    Soleado    Alta   Débil    No\n",
       "8    Soleado  Normal   Débil    Sí\n",
       "9   Lluvioso  Normal   Débil    Sí\n",
       "10   Soleado  Normal  Fuerte    Sí\n",
       "11   Nublado    Alta  Fuerte    Sí\n",
       "12   Nublado  Normal   Débil    Sí\n",
       "13  Lluvioso    Alta  Fuerte    No"
      ]
     },
     "execution_count": 8,
     "metadata": {},
     "output_type": "execute_result"
    }
   ],
   "source": [
    "#Datos de ejemplo: ¿Jugar tenis? (14 días)\n",
    "data = {\n",
    "    'Cielo': ['Soleado', 'Soleado', 'Nublado', 'Lluvioso', 'Lluvioso', 'Lluvioso', 'Nublado', 'Soleado', 'Soleado', 'Lluvioso', \n",
    "              'Soleado', 'Nublado', 'Nublado', 'Lluvioso'],\n",
    "    'Humedad': ['Alta', 'Alta', 'Alta', 'Normal', 'Normal', 'Alta', 'Normal', 'Alta', 'Normal', 'Normal', 'Normal', \n",
    "                'Alta', 'Normal', 'Alta'],\n",
    "    'Viento': ['Débil', 'Fuerte', 'Débil', 'Débil', 'Fuerte', 'Débil', 'Fuerte', 'Débil', 'Débil', 'Débil', 'Fuerte', \n",
    "               'Fuerte', 'Débil', 'Fuerte'],\n",
    "    'Jugar': ['No', 'No', 'Sí', 'Sí', 'No', 'Sí', 'Sí', 'No', 'Sí', 'Sí', 'Sí', 'Sí', 'Sí', 'No']\n",
    "}\n",
    "\n",
    "df = pd.DataFrame(data)\n",
    "print(\"Dataset original:\")\n",
    "df"
   ]
  },
  {
   "cell_type": "markdown",
   "id": "d6250a01",
   "metadata": {},
   "source": [
    "#### Preprocesar los datos"
   ]
  },
  {
   "cell_type": "code",
   "execution_count": 16,
   "id": "bff83351",
   "metadata": {},
   "outputs": [
    {
     "name": "stdout",
     "output_type": "stream",
     "text": [
      "\n",
      "Dataset codificado:\n"
     ]
    },
    {
     "data": {
      "text/html": [
       "<div>\n",
       "<style scoped>\n",
       "    .dataframe tbody tr th:only-of-type {\n",
       "        vertical-align: middle;\n",
       "    }\n",
       "\n",
       "    .dataframe tbody tr th {\n",
       "        vertical-align: top;\n",
       "    }\n",
       "\n",
       "    .dataframe thead th {\n",
       "        text-align: right;\n",
       "    }\n",
       "</style>\n",
       "<table border=\"1\" class=\"dataframe\">\n",
       "  <thead>\n",
       "    <tr style=\"text-align: right;\">\n",
       "      <th></th>\n",
       "      <th>Cielo</th>\n",
       "      <th>Humedad</th>\n",
       "      <th>Viento</th>\n",
       "      <th>Jugar</th>\n",
       "    </tr>\n",
       "  </thead>\n",
       "  <tbody>\n",
       "    <tr>\n",
       "      <th>0</th>\n",
       "      <td>2</td>\n",
       "      <td>0</td>\n",
       "      <td>0</td>\n",
       "      <td>0</td>\n",
       "    </tr>\n",
       "    <tr>\n",
       "      <th>1</th>\n",
       "      <td>2</td>\n",
       "      <td>0</td>\n",
       "      <td>1</td>\n",
       "      <td>0</td>\n",
       "    </tr>\n",
       "    <tr>\n",
       "      <th>2</th>\n",
       "      <td>1</td>\n",
       "      <td>0</td>\n",
       "      <td>0</td>\n",
       "      <td>1</td>\n",
       "    </tr>\n",
       "    <tr>\n",
       "      <th>3</th>\n",
       "      <td>0</td>\n",
       "      <td>1</td>\n",
       "      <td>0</td>\n",
       "      <td>1</td>\n",
       "    </tr>\n",
       "    <tr>\n",
       "      <th>4</th>\n",
       "      <td>0</td>\n",
       "      <td>1</td>\n",
       "      <td>1</td>\n",
       "      <td>0</td>\n",
       "    </tr>\n",
       "    <tr>\n",
       "      <th>5</th>\n",
       "      <td>0</td>\n",
       "      <td>0</td>\n",
       "      <td>0</td>\n",
       "      <td>1</td>\n",
       "    </tr>\n",
       "    <tr>\n",
       "      <th>6</th>\n",
       "      <td>1</td>\n",
       "      <td>1</td>\n",
       "      <td>1</td>\n",
       "      <td>1</td>\n",
       "    </tr>\n",
       "    <tr>\n",
       "      <th>7</th>\n",
       "      <td>2</td>\n",
       "      <td>0</td>\n",
       "      <td>0</td>\n",
       "      <td>0</td>\n",
       "    </tr>\n",
       "    <tr>\n",
       "      <th>8</th>\n",
       "      <td>2</td>\n",
       "      <td>1</td>\n",
       "      <td>0</td>\n",
       "      <td>1</td>\n",
       "    </tr>\n",
       "    <tr>\n",
       "      <th>9</th>\n",
       "      <td>0</td>\n",
       "      <td>1</td>\n",
       "      <td>0</td>\n",
       "      <td>1</td>\n",
       "    </tr>\n",
       "    <tr>\n",
       "      <th>10</th>\n",
       "      <td>2</td>\n",
       "      <td>1</td>\n",
       "      <td>1</td>\n",
       "      <td>1</td>\n",
       "    </tr>\n",
       "    <tr>\n",
       "      <th>11</th>\n",
       "      <td>1</td>\n",
       "      <td>0</td>\n",
       "      <td>1</td>\n",
       "      <td>1</td>\n",
       "    </tr>\n",
       "    <tr>\n",
       "      <th>12</th>\n",
       "      <td>1</td>\n",
       "      <td>1</td>\n",
       "      <td>0</td>\n",
       "      <td>1</td>\n",
       "    </tr>\n",
       "    <tr>\n",
       "      <th>13</th>\n",
       "      <td>0</td>\n",
       "      <td>0</td>\n",
       "      <td>1</td>\n",
       "      <td>0</td>\n",
       "    </tr>\n",
       "  </tbody>\n",
       "</table>\n",
       "</div>"
      ],
      "text/plain": [
       "    Cielo  Humedad  Viento  Jugar\n",
       "0       2        0       0      0\n",
       "1       2        0       1      0\n",
       "2       1        0       0      1\n",
       "3       0        1       0      1\n",
       "4       0        1       1      0\n",
       "5       0        0       0      1\n",
       "6       1        1       1      1\n",
       "7       2        0       0      0\n",
       "8       2        1       0      1\n",
       "9       0        1       0      1\n",
       "10      2        1       1      1\n",
       "11      1        0       1      1\n",
       "12      1        1       0      1\n",
       "13      0        0       1      0"
      ]
     },
     "execution_count": 16,
     "metadata": {},
     "output_type": "execute_result"
    }
   ],
   "source": [
    "label_encoders =  {} #Crea un codificador para cada columna\n",
    "df_encoded = df.copy() #Copia el DataFrame original\n",
    "\n",
    "for column in df.columns:\n",
    "    le = LabelEncoder() #Crear un codificador de etiquetas\n",
    "    df_encoded[column] = le.fit_transform(df[column]) #Codificar la columna\n",
    "    label_encoders[column] = le #Guardar el codificador para usarlo más tarde \n",
    "print(\"\\nDataset codificado:\")\n",
    "df_encoded"
   ]
  },
  {
   "cell_type": "markdown",
   "id": "84ce8d11",
   "metadata": {},
   "source": [
    "#### Dividir Datos de Entrenamiento y Prueba"
   ]
  },
  {
   "cell_type": "code",
   "execution_count": 19,
   "id": "54c243f3",
   "metadata": {},
   "outputs": [
    {
     "name": "stdout",
     "output_type": "stream",
     "text": [
      "\n",
      "Datos de entrenamiento: \n",
      "\n",
      "    Cielo  Humedad  Viento\n",
      "8       2        1       0\n",
      "2       1        0       0\n",
      "1       2        0       1\n",
      "13      0        0       1\n",
      "4       0        1       1\n",
      "7       2        0       0\n",
      "10      2        1       1\n",
      "3       0        1       0\n",
      "6       1        1       1\n",
      "\n",
      "Datos de prueba: \n",
      "\n",
      "    Cielo  Humedad  Viento\n",
      "9       0        1       0\n",
      "11      1        0       1\n",
      "0       2        0       0\n",
      "12      1        1       0\n",
      "5       0        0       0\n"
     ]
    }
   ],
   "source": [
    "X = df_encoded.drop('Jugar', axis=1) #Todas las columnas excepto la columna 'Jugar'\n",
    "y = df_encoded['Jugar'] #Solo la columna 'Jugar'\n",
    "\n",
    "#Dividir el dataset en conjunto de entrenamiento(70%) y prueba(30%)\n",
    "X_train, X_test, y_train, y_test = train_test_split(X, y, test_size=0.3, random_state=42)\n",
    "\n",
    "print(\"\\nDatos de entrenamiento: \\n\")\n",
    "print(X_train)\n",
    "print(\"\\nDatos de prueba: \\n\")\n",
    "print(X_test)"
   ]
  },
  {
   "cell_type": "markdown",
   "id": "d12cfa08",
   "metadata": {},
   "source": [
    "#### Entrenar Árbol de Decisión"
   ]
  },
  {
   "cell_type": "code",
   "execution_count": 20,
   "id": "067a7344",
   "metadata": {},
   "outputs": [
    {
     "name": "stdout",
     "output_type": "stream",
     "text": [
      "\n",
      "Predicciones: \n",
      "\n",
      "[1 0 0 1 1]\n",
      "\n",
      "Precisión del modelo: 0.80\n"
     ]
    }
   ],
   "source": [
    "# Crear y entrenar el modelo\n",
    "model = DecisionTreeClassifier(\n",
    "    criterion = 'gini', #Métrica para dividir nodos\n",
    "    max_depth = 3, #Profundidad máxima del árbol\n",
    "    random_state = 42\n",
    ")\n",
    "model.fit(X_train, y_train)\n",
    "\n",
    "# Predecir en los datos de prueba\n",
    "y_pred = model.predict(X_test)\n",
    "print(\"\\nPredicciones: \\n\")\n",
    "print(y_pred)\n",
    "\n",
    "#Calcular la precisión del modelo\n",
    "accuracy = accuracy_score(y_test, y_pred) \n",
    "print(f\"\\nPrecisión del modelo: {accuracy:.2f}\")"
   ]
  },
  {
   "cell_type": "markdown",
   "id": "a02d6b79",
   "metadata": {},
   "source": [
    "#### Visualizar el Árbol"
   ]
  },
  {
   "cell_type": "code",
   "execution_count": 23,
   "id": "b127fac8",
   "metadata": {},
   "outputs": [
    {
     "data": {
      "image/png": "[encoded data removed]",
      "text/plain": [
       "<Figure size 1000x600 with 1 Axes>"
      ]
     },
     "metadata": {},
     "output_type": "display_data"
    }
   ],
   "source": [
    "plt.figure(figsize=(10,6))\n",
    "plot_tree(\n",
    "    model, \n",
    "    feature_names=X.columns, # Nombres de las columnas\n",
    "    class_names=['No', 'Sí'], # Nombres de las clases (Jugar=0 -> 'No')\n",
    "    filled=True, # Colorear por clase\n",
    "    rounded=True, # Forma de los nodos\n",
    "    impurity=True # Mostrar impureza (Gini)\n",
    ")\n",
    "\n",
    "plt.title(\"Árbol de Decisión - ¿Jugar Tenis?\")\n",
    "plt.show()"
   ]
  },
  {
   "cell_type": "markdown",
   "id": "f44470a3",
   "metadata": {},
   "source": [
    "#### Hacer predicciones"
   ]
  },
  {
   "cell_type": "code",
   "execution_count": 50,
   "id": "5caf92a4",
   "metadata": {},
   "outputs": [
    {
     "name": "stdout",
     "output_type": "stream",
     "text": [
      "PREDICCIÓN BADASA EN EL MODELO\n",
      "\n",
      "Datos de predicción: \n",
      "\n",
      "   Cielo  Humedad  Viento\n",
      "0      1      0.3     0.5\n",
      "\n",
      "Predicción para el nuevo dato:\n",
      "Si deben jugar\n"
     ]
    }
   ],
   "source": [
    "print(\"PREDICCIÓN BADASA EN EL MODELO\\n\")\n",
    "\n",
    "# Ejemplo de predicción\n",
    "nuevos_datos = {\n",
    "    'Cielo': 1,\n",
    "    'Humedad': 0.3,\n",
    "    'Viento': 0.5\n",
    "}\n",
    "\n",
    "nuevo_df = pd.DataFrame([nuevos_datos])\n",
    "print(\"Datos de predicción: \\n\")\n",
    "print(nuevo_df)\n",
    "\n",
    "prediction = model.predict(nuevo_df)\n",
    "\n",
    "print(\"\\nPredicción para el nuevo dato:\")\n",
    "if prediction[0] == 1:\n",
    "    print(\"Si deben jugar\")\n",
    "else:\n",
    "    print(\"No deden jugar\")\n"
   ]
  }
 ],
 "metadata": {
  "kernelspec": {
   "display_name": "Python 3",
   "language": "python",
   "name": "python3"
  },
  "language_info": {
   "codemirror_mode": {
    "name": "ipython",
    "version": 3
   },
   "file_extension": ".py",
   "mimetype": "text/x-python",
   "name": "python",
   "nbconvert_exporter": "python",
   "pygments_lexer": "ipython3",
   "version": "3.12.5"
  }
 },
 "nbformat": 4,
 "nbformat_minor": 5
}
